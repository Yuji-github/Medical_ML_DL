{
  "nbformat": 4,
  "nbformat_minor": 0,
  "metadata": {
    "colab": {
      "name": "Medical.ipynb",
      "provenance": [],
      "collapsed_sections": [],
      "authorship_tag": "ABX9TyNsbj22zDzbP+whId6zYlwb",
      "include_colab_link": true
    },
    "kernelspec": {
      "name": "python3",
      "display_name": "Python 3"
    },
    "language_info": {
      "name": "python"
    }
  },
  "cells": [
    {
      "cell_type": "markdown",
      "metadata": {
        "id": "view-in-github",
        "colab_type": "text"
      },
      "source": [
        "<a href=\"https://colab.research.google.com/github/Yuji-github/Medical_ML_DL/blob/main/Medical.ipynb\" target=\"_parent\"><img src=\"https://colab.research.google.com/assets/colab-badge.svg\" alt=\"Open In Colab\"/></a>"
      ]
    },
    {
      "cell_type": "code",
      "metadata": {
        "id": "rIEhbmb0K0Ue"
      },
      "source": [
        "import pandas as pd \n",
        "import numpy as np \n",
        "import matplotlib.pyplot as plt\n",
        "import seaborn as sns"
      ],
      "execution_count": null,
      "outputs": []
    },
    {
      "cell_type": "markdown",
      "metadata": {
        "id": "K3SyjnqvLIIt"
      },
      "source": [
        "Import dataset"
      ]
    },
    {
      "cell_type": "code",
      "metadata": {
        "id": "lx9BHOaALHrH",
        "colab": {
          "base_uri": "https://localhost:8080/",
          "height": 424
        },
        "outputId": "b99504d0-7ff5-4311-dcb3-0ab1bd24790e"
      },
      "source": [
        "df = pd.read_csv('Medicalpremium.csv')\n",
        "df"
      ],
      "execution_count": null,
      "outputs": [
        {
          "output_type": "execute_result",
          "data": {
            "text/html": [
              "<div>\n",
              "<style scoped>\n",
              "    .dataframe tbody tr th:only-of-type {\n",
              "        vertical-align: middle;\n",
              "    }\n",
              "\n",
              "    .dataframe tbody tr th {\n",
              "        vertical-align: top;\n",
              "    }\n",
              "\n",
              "    .dataframe thead th {\n",
              "        text-align: right;\n",
              "    }\n",
              "</style>\n",
              "<table border=\"1\" class=\"dataframe\">\n",
              "  <thead>\n",
              "    <tr style=\"text-align: right;\">\n",
              "      <th></th>\n",
              "      <th>Age</th>\n",
              "      <th>Diabetes</th>\n",
              "      <th>BloodPressureProblems</th>\n",
              "      <th>AnyTransplants</th>\n",
              "      <th>AnyChronicDiseases</th>\n",
              "      <th>Height</th>\n",
              "      <th>Weight</th>\n",
              "      <th>KnownAllergies</th>\n",
              "      <th>HistoryOfCancerInFamily</th>\n",
              "      <th>NumberOfMajorSurgeries</th>\n",
              "      <th>PremiumPrice</th>\n",
              "    </tr>\n",
              "  </thead>\n",
              "  <tbody>\n",
              "    <tr>\n",
              "      <th>0</th>\n",
              "      <td>45</td>\n",
              "      <td>0</td>\n",
              "      <td>0</td>\n",
              "      <td>0</td>\n",
              "      <td>0</td>\n",
              "      <td>155</td>\n",
              "      <td>57</td>\n",
              "      <td>0</td>\n",
              "      <td>0</td>\n",
              "      <td>0</td>\n",
              "      <td>25000</td>\n",
              "    </tr>\n",
              "    <tr>\n",
              "      <th>1</th>\n",
              "      <td>60</td>\n",
              "      <td>1</td>\n",
              "      <td>0</td>\n",
              "      <td>0</td>\n",
              "      <td>0</td>\n",
              "      <td>180</td>\n",
              "      <td>73</td>\n",
              "      <td>0</td>\n",
              "      <td>0</td>\n",
              "      <td>0</td>\n",
              "      <td>29000</td>\n",
              "    </tr>\n",
              "    <tr>\n",
              "      <th>2</th>\n",
              "      <td>36</td>\n",
              "      <td>1</td>\n",
              "      <td>1</td>\n",
              "      <td>0</td>\n",
              "      <td>0</td>\n",
              "      <td>158</td>\n",
              "      <td>59</td>\n",
              "      <td>0</td>\n",
              "      <td>0</td>\n",
              "      <td>1</td>\n",
              "      <td>23000</td>\n",
              "    </tr>\n",
              "    <tr>\n",
              "      <th>3</th>\n",
              "      <td>52</td>\n",
              "      <td>1</td>\n",
              "      <td>1</td>\n",
              "      <td>0</td>\n",
              "      <td>1</td>\n",
              "      <td>183</td>\n",
              "      <td>93</td>\n",
              "      <td>0</td>\n",
              "      <td>0</td>\n",
              "      <td>2</td>\n",
              "      <td>28000</td>\n",
              "    </tr>\n",
              "    <tr>\n",
              "      <th>4</th>\n",
              "      <td>38</td>\n",
              "      <td>0</td>\n",
              "      <td>0</td>\n",
              "      <td>0</td>\n",
              "      <td>1</td>\n",
              "      <td>166</td>\n",
              "      <td>88</td>\n",
              "      <td>0</td>\n",
              "      <td>0</td>\n",
              "      <td>1</td>\n",
              "      <td>23000</td>\n",
              "    </tr>\n",
              "    <tr>\n",
              "      <th>...</th>\n",
              "      <td>...</td>\n",
              "      <td>...</td>\n",
              "      <td>...</td>\n",
              "      <td>...</td>\n",
              "      <td>...</td>\n",
              "      <td>...</td>\n",
              "      <td>...</td>\n",
              "      <td>...</td>\n",
              "      <td>...</td>\n",
              "      <td>...</td>\n",
              "      <td>...</td>\n",
              "    </tr>\n",
              "    <tr>\n",
              "      <th>981</th>\n",
              "      <td>18</td>\n",
              "      <td>0</td>\n",
              "      <td>0</td>\n",
              "      <td>0</td>\n",
              "      <td>0</td>\n",
              "      <td>169</td>\n",
              "      <td>67</td>\n",
              "      <td>0</td>\n",
              "      <td>0</td>\n",
              "      <td>0</td>\n",
              "      <td>15000</td>\n",
              "    </tr>\n",
              "    <tr>\n",
              "      <th>982</th>\n",
              "      <td>64</td>\n",
              "      <td>1</td>\n",
              "      <td>1</td>\n",
              "      <td>0</td>\n",
              "      <td>0</td>\n",
              "      <td>153</td>\n",
              "      <td>70</td>\n",
              "      <td>0</td>\n",
              "      <td>0</td>\n",
              "      <td>3</td>\n",
              "      <td>28000</td>\n",
              "    </tr>\n",
              "    <tr>\n",
              "      <th>983</th>\n",
              "      <td>56</td>\n",
              "      <td>0</td>\n",
              "      <td>1</td>\n",
              "      <td>0</td>\n",
              "      <td>0</td>\n",
              "      <td>155</td>\n",
              "      <td>71</td>\n",
              "      <td>0</td>\n",
              "      <td>0</td>\n",
              "      <td>1</td>\n",
              "      <td>29000</td>\n",
              "    </tr>\n",
              "    <tr>\n",
              "      <th>984</th>\n",
              "      <td>47</td>\n",
              "      <td>1</td>\n",
              "      <td>1</td>\n",
              "      <td>0</td>\n",
              "      <td>0</td>\n",
              "      <td>158</td>\n",
              "      <td>73</td>\n",
              "      <td>1</td>\n",
              "      <td>0</td>\n",
              "      <td>1</td>\n",
              "      <td>39000</td>\n",
              "    </tr>\n",
              "    <tr>\n",
              "      <th>985</th>\n",
              "      <td>21</td>\n",
              "      <td>0</td>\n",
              "      <td>0</td>\n",
              "      <td>0</td>\n",
              "      <td>0</td>\n",
              "      <td>158</td>\n",
              "      <td>75</td>\n",
              "      <td>1</td>\n",
              "      <td>0</td>\n",
              "      <td>1</td>\n",
              "      <td>15000</td>\n",
              "    </tr>\n",
              "  </tbody>\n",
              "</table>\n",
              "<p>986 rows × 11 columns</p>\n",
              "</div>"
            ],
            "text/plain": [
              "     Age  Diabetes  ...  NumberOfMajorSurgeries  PremiumPrice\n",
              "0     45         0  ...                       0         25000\n",
              "1     60         1  ...                       0         29000\n",
              "2     36         1  ...                       1         23000\n",
              "3     52         1  ...                       2         28000\n",
              "4     38         0  ...                       1         23000\n",
              "..   ...       ...  ...                     ...           ...\n",
              "981   18         0  ...                       0         15000\n",
              "982   64         1  ...                       3         28000\n",
              "983   56         0  ...                       1         29000\n",
              "984   47         1  ...                       1         39000\n",
              "985   21         0  ...                       1         15000\n",
              "\n",
              "[986 rows x 11 columns]"
            ]
          },
          "metadata": {},
          "execution_count": 2
        }
      ]
    },
    {
      "cell_type": "markdown",
      "metadata": {
        "id": "IW_ynJxHaKZ2"
      },
      "source": [
        "# Preprocessing"
      ]
    },
    {
      "cell_type": "markdown",
      "metadata": {
        "id": "_RngC41yMPzN"
      },
      "source": [
        "0 is No, 1 is Yes"
      ]
    },
    {
      "cell_type": "code",
      "metadata": {
        "id": "OFvh3NltLWLk"
      },
      "source": [
        "df.info()"
      ],
      "execution_count": null,
      "outputs": []
    },
    {
      "cell_type": "markdown",
      "metadata": {
        "id": "eBT3EfvAV34y"
      },
      "source": [
        "No missing values"
      ]
    },
    {
      "cell_type": "code",
      "metadata": {
        "id": "AleIREdNLZa1"
      },
      "source": [
        "df.describe()"
      ],
      "execution_count": null,
      "outputs": []
    },
    {
      "cell_type": "markdown",
      "metadata": {
        "id": "Rbod06UqMZPu"
      },
      "source": [
        "Check Correlations "
      ]
    },
    {
      "cell_type": "code",
      "metadata": {
        "id": "tEfT7ztbPOz8"
      },
      "source": [
        "corr = df.corrwith(df.iloc[:, -1], axis=0).drop(labels=['PremiumPrice'])"
      ],
      "execution_count": null,
      "outputs": []
    },
    {
      "cell_type": "code",
      "metadata": {
        "colab": {
          "base_uri": "https://localhost:8080/",
          "height": 507
        },
        "id": "i0rQ-9iZRmNE",
        "outputId": "8572db07-631c-42b7-fc8d-6373e00737d0"
      },
      "source": [
        "plt.figure(figsize=(8, 6))\n",
        "plt.axhline(y=0.5, color='r', linestyle='-', label='Moderate') # modelate line \n",
        "corr.plot(kind='bar', label='Correlation')\n",
        "plt.legend()\n",
        "plt.title(\"Premium Price Relations\")\n",
        "plt.show()"
      ],
      "execution_count": null,
      "outputs": [
        {
          "output_type": "display_data",
          "data": {
            "image/png": "[encoded data removed]",
            "text/plain": [
              "<Figure size 576x432 with 1 Axes>"
            ]
          },
          "metadata": {
            "needs_background": "light"
          }
        }
      ]
    },
    {
      "cell_type": "markdown",
      "metadata": {
        "id": "u4ac0u9KUEzs"
      },
      "source": [
        "Age is related (strongly positive) to the price. -> Older more expensive"
      ]
    },
    {
      "cell_type": "code",
      "metadata": {
        "colab": {
          "base_uri": "https://localhost:8080/"
        },
        "id": "-Yz-OALRa1b7",
        "outputId": "d8135221-68be-4061-bc83-cc9e41017b01"
      },
      "source": [
        "print(\"Avg Price '18-30', '30-42', '42-54', '54-66' \\n\", \n",
        "      df[['PremiumPrice']] [(df[\"Age\"] >= 18) & (df[\"Age\"] <= 30)].mean(), \n",
        "      df[['PremiumPrice']] [(df[\"Age\"] > 30) & (df[\"Age\"] <= 42)].mean(), \n",
        "      df[['PremiumPrice']] [(df[\"Age\"] > 42) & (df[\"Age\"] <= 54)].mean(), \n",
        "      df[['PremiumPrice']] [(df[\"Age\"] > 54) & (df[\"Age\"] <= 66)].mean()\n",
        "      )"
      ],
      "execution_count": null,
      "outputs": [
        {
          "output_type": "stream",
          "name": "stdout",
          "text": [
            "Avg Price '18-30', '30-42', '42-54', '54-66' \n",
            " PremiumPrice    17057.471264\n",
            "dtype: float64 PremiumPrice    24836.134454\n",
            "dtype: float64 PremiumPrice    27318.35206\n",
            "dtype: float64 PremiumPrice    28813.636364\n",
            "dtype: float64\n"
          ]
        }
      ]
    },
    {
      "cell_type": "code",
      "metadata": {
        "id": "VbWjRD4HmV-b"
      },
      "source": [
        "pd.cut(df['Age'], bins=4).value_counts()"
      ],
      "execution_count": null,
      "outputs": []
    },
    {
      "cell_type": "markdown",
      "metadata": {
        "id": "iIHeB8I5oQlc"
      },
      "source": [
        "No imbalanced datasets by Age"
      ]
    },
    {
      "cell_type": "markdown",
      "metadata": {
        "id": "IDYqsB1KZ0g-"
      },
      "source": [
        "Age Base Analysis"
      ]
    },
    {
      "cell_type": "code",
      "metadata": {
        "id": "bY1715m2pJC4"
      },
      "source": [
        "young = df[(df[\"Age\"] >= 18) & (df[\"Age\"] <= 30)]\n",
        "adult1 = df[(df[\"Age\"] > 30) & (df[\"Age\"] <= 42)]\n",
        "adult2 = df[(df[\"Age\"] > 42) & (df[\"Age\"] <= 54)]\n",
        "senior = df[(df[\"Age\"] > 54) & (df[\"Age\"] <= 66)]"
      ],
      "execution_count": null,
      "outputs": []
    },
    {
      "cell_type": "code",
      "metadata": {
        "id": "q9BdyUSOqALV"
      },
      "source": [
        "y_corr = young.corrwith(young.iloc[:, -1], axis=0).drop(labels=['PremiumPrice'])\n",
        "a1_corr = adult1.corrwith(adult1.iloc[:, -1], axis=0).drop(labels=['PremiumPrice'])\n",
        "a2_corr = adult2.corrwith(adult2.iloc[:, -1], axis=0).drop(labels=['PremiumPrice'])\n",
        "s_corr = senior.corrwith(senior.iloc[:, -1], axis=0).drop(labels=['PremiumPrice'])\n",
        "\n",
        "g = ['18-30', '30-42', '42-54', '54-66'] # for plotting and models later"
      ],
      "execution_count": null,
      "outputs": []
    },
    {
      "cell_type": "code",
      "metadata": {
        "id": "5OgoSS8Iriuu",
        "colab": {
          "base_uri": "https://localhost:8080/",
          "height": 175
        },
        "outputId": "eee7f2c5-d862-4c48-f95a-c52fa666369a"
      },
      "source": [
        "age_base = pd.DataFrame([y_corr, a1_corr, a2_corr, s_corr])\n",
        "age_base"
      ],
      "execution_count": null,
      "outputs": [
        {
          "output_type": "execute_result",
          "data": {
            "text/html": [
              "<div>\n",
              "<style scoped>\n",
              "    .dataframe tbody tr th:only-of-type {\n",
              "        vertical-align: middle;\n",
              "    }\n",
              "\n",
              "    .dataframe tbody tr th {\n",
              "        vertical-align: top;\n",
              "    }\n",
              "\n",
              "    .dataframe thead th {\n",
              "        text-align: right;\n",
              "    }\n",
              "</style>\n",
              "<table border=\"1\" class=\"dataframe\">\n",
              "  <thead>\n",
              "    <tr style=\"text-align: right;\">\n",
              "      <th></th>\n",
              "      <th>Age</th>\n",
              "      <th>Diabetes</th>\n",
              "      <th>BloodPressureProblems</th>\n",
              "      <th>AnyTransplants</th>\n",
              "      <th>AnyChronicDiseases</th>\n",
              "      <th>Height</th>\n",
              "      <th>Weight</th>\n",
              "      <th>KnownAllergies</th>\n",
              "      <th>HistoryOfCancerInFamily</th>\n",
              "      <th>NumberOfMajorSurgeries</th>\n",
              "    </tr>\n",
              "  </thead>\n",
              "  <tbody>\n",
              "    <tr>\n",
              "      <th>0</th>\n",
              "      <td>0.279483</td>\n",
              "      <td>-0.025038</td>\n",
              "      <td>0.210001</td>\n",
              "      <td>0.190133</td>\n",
              "      <td>0.392123</td>\n",
              "      <td>-0.034182</td>\n",
              "      <td>0.089217</td>\n",
              "      <td>-0.027177</td>\n",
              "      <td>-0.002234</td>\n",
              "      <td>0.022974</td>\n",
              "    </tr>\n",
              "    <tr>\n",
              "      <th>1</th>\n",
              "      <td>0.168016</td>\n",
              "      <td>-0.068791</td>\n",
              "      <td>-0.016865</td>\n",
              "      <td>0.701766</td>\n",
              "      <td>0.185736</td>\n",
              "      <td>0.006177</td>\n",
              "      <td>0.100211</td>\n",
              "      <td>0.102118</td>\n",
              "      <td>0.360884</td>\n",
              "      <td>0.180751</td>\n",
              "    </tr>\n",
              "    <tr>\n",
              "      <th>2</th>\n",
              "      <td>0.279309</td>\n",
              "      <td>-0.030344</td>\n",
              "      <td>-0.025848</td>\n",
              "      <td>0.457739</td>\n",
              "      <td>0.187229</td>\n",
              "      <td>0.009577</td>\n",
              "      <td>0.372832</td>\n",
              "      <td>0.035739</td>\n",
              "      <td>0.188840</td>\n",
              "      <td>0.153886</td>\n",
              "    </tr>\n",
              "    <tr>\n",
              "      <th>3</th>\n",
              "      <td>0.038370</td>\n",
              "      <td>-0.144390</td>\n",
              "      <td>-0.104692</td>\n",
              "      <td>0.444280</td>\n",
              "      <td>0.101037</td>\n",
              "      <td>0.022144</td>\n",
              "      <td>0.471978</td>\n",
              "      <td>0.030195</td>\n",
              "      <td>0.086653</td>\n",
              "      <td>-0.132850</td>\n",
              "    </tr>\n",
              "  </tbody>\n",
              "</table>\n",
              "</div>"
            ],
            "text/plain": [
              "        Age  Diabetes  ...  HistoryOfCancerInFamily  NumberOfMajorSurgeries\n",
              "0  0.279483 -0.025038  ...                -0.002234                0.022974\n",
              "1  0.168016 -0.068791  ...                 0.360884                0.180751\n",
              "2  0.279309 -0.030344  ...                 0.188840                0.153886\n",
              "3  0.038370 -0.144390  ...                 0.086653               -0.132850\n",
              "\n",
              "[4 rows x 10 columns]"
            ]
          },
          "metadata": {},
          "execution_count": 56
        }
      ]
    },
    {
      "cell_type": "code",
      "metadata": {
        "id": "0PtJ-YUQSXiz"
      },
      "source": [
        "pos = 1\n",
        "\n",
        "for itr in age_base:\n",
        "  plt.subplot(5, 2, pos)\n",
        "\n",
        "  plt.subplots_adjust(left=1, right=2.5, top=4) # adjusting subplot\n",
        "\n",
        "  sns.barplot(x=g, y=itr, data=age_base)\n",
        "  plt.axhline(y=0.5, color='r', linestyle='-', label='Moderate') # most of them is positive, -> no strongly negative (-0.5 [Moderate])\n",
        "  pos +=1\n",
        "\n",
        "plt.show()"
      ],
      "execution_count": null,
      "outputs": []
    },
    {
      "cell_type": "markdown",
      "metadata": {
        "id": "RecnV_3lZYAF"
      },
      "source": [
        "Between 30 and 42 years, \"AnyTransplants\" is most related."
      ]
    },
    {
      "cell_type": "code",
      "metadata": {
        "id": "KIhbhWNEXbMk"
      },
      "source": [
        "df.boxplot([\"Height\", \"Weight\"])"
      ],
      "execution_count": null,
      "outputs": []
    },
    {
      "cell_type": "markdown",
      "metadata": {
        "id": "BA5S-vxeaQeZ"
      },
      "source": [
        "Some of people are over 100 kg -> Diabetes?"
      ]
    },
    {
      "cell_type": "code",
      "metadata": {
        "colab": {
          "base_uri": "https://localhost:8080/"
        },
        "id": "TkwvArkDadva",
        "outputId": "d6fdf9d2-40e0-4bfb-e7b9-2717902f9639"
      },
      "source": [
        "count = 0\n",
        "overweight = 0 \n",
        "index = []\n",
        "\n",
        "for itr, weight in enumerate(df[\"Weight\"]): \n",
        "  if weight > 100: # almost 2 SD different \n",
        "\n",
        "    overweight +=1\n",
        "\n",
        "    if df.loc[itr, 'Diabetes'] == 1: # yes, diabetes\n",
        "      count +=1\n",
        "      index.append(itr)\n",
        "\n",
        "print(\"related to weight and diabetes is %.2f percent\" %(count/overweight) )"
      ],
      "execution_count": null,
      "outputs": [
        {
          "output_type": "stream",
          "name": "stdout",
          "text": [
            "related to weight and diabetes is 0.36 percent\n"
          ]
        }
      ]
    },
    {
      "cell_type": "code",
      "metadata": {
        "colab": {
          "base_uri": "https://localhost:8080/"
        },
        "id": "7oRx2FRVeXRy",
        "outputId": "e70b89a3-ddf8-490e-a6a1-9f470a6d4fe2"
      },
      "source": [
        "print(\"Avg Price Diabetes, Non-Diabetes, and OverWeight(Diabetes) \\n\", \n",
        "      df[['Diabetes', 'PremiumPrice']] [df['Diabetes'] == 1].mean(), \n",
        "      df[['Diabetes', 'PremiumPrice']] [df['Diabetes'] == 0].mean(), \n",
        "      df[['Diabetes', 'PremiumPrice']] [(df['Diabetes'] == 1) & (df['Weight'] > 100)].mean(), \n",
        "      )"
      ],
      "execution_count": null,
      "outputs": [
        {
          "output_type": "stream",
          "name": "stdout",
          "text": [
            "Avg Price Diabetes, Non-Diabetes, and OverWeight(Diabetes) \n",
            " Diabetes            1.000000\n",
            "PremiumPrice    24896.135266\n",
            "dtype: float64 Diabetes            0.000000\n",
            "PremiumPrice    23931.818182\n",
            "dtype: float64 Diabetes            1.000000\n",
            "PremiumPrice    28714.285714\n",
            "dtype: float64\n"
          ]
        }
      ]
    },
    {
      "cell_type": "markdown",
      "metadata": {
        "id": "ObElOmBXiKBM"
      },
      "source": [
        "Overweight and Diabetes people are higher than the average (as the same as 54+) "
      ]
    },
    {
      "cell_type": "markdown",
      "metadata": {
        "id": "e9WbyD4ZaEZa"
      },
      "source": [
        "# Regression Models"
      ]
    },
    {
      "cell_type": "code",
      "metadata": {
        "id": "ssKqu49JaD0s"
      },
      "source": [
        "from sklearn.model_selection import train_test_split\n",
        "# independent variable\n",
        "x = df.iloc[:, 1:-1].values\n",
        "\n",
        "# dependent variable\n",
        "y = df.iloc[:, -1].values"
      ],
      "execution_count": null,
      "outputs": []
    },
    {
      "cell_type": "code",
      "metadata": {
        "id": "6ydE7Muhcy0V"
      },
      "source": [
        "# splitting into 4 parts, but it is too small\n",
        "x_train, x_test, y_train, y_test = train_test_split(x, y, train_size=0.9, random_state=1)"
      ],
      "execution_count": null,
      "outputs": []
    },
    {
      "cell_type": "code",
      "metadata": {
        "id": "Wz7Xr-cGdCQM"
      },
      "source": [
        "from sklearn.preprocessing import StandardScaler\n",
        "sc = StandardScaler()\n",
        "x_train = sc.fit_transform(x_train)\n",
        "x_test = sc.transform(x_test)"
      ],
      "execution_count": null,
      "outputs": []
    },
    {
      "cell_type": "code",
      "metadata": {
        "colab": {
          "base_uri": "https://localhost:8080/"
        },
        "id": "lB6SLq8mc3fS",
        "outputId": "6a4376bd-86f3-4b4c-b1fd-260637d0feee"
      },
      "source": [
        "from sklearn.ensemble import RandomForestRegressor # for random forest regression\n",
        "rfr_reg = RandomForestRegressor(n_estimators=1000, random_state=0) # number of trees (default is 100)\n",
        "rfr_reg.fit(x_train, y_train)"
      ],
      "execution_count": null,
      "outputs": [
        {
          "output_type": "execute_result",
          "data": {
            "text/plain": [
              "RandomForestRegressor(bootstrap=True, ccp_alpha=0.0, criterion='mse',\n",
              "                      max_depth=None, max_features='auto', max_leaf_nodes=None,\n",
              "                      max_samples=None, min_impurity_decrease=0.0,\n",
              "                      min_impurity_split=None, min_samples_leaf=1,\n",
              "                      min_samples_split=2, min_weight_fraction_leaf=0.0,\n",
              "                      n_estimators=1000, n_jobs=None, oob_score=False,\n",
              "                      random_state=0, verbose=0, warm_start=False)"
            ]
          },
          "metadata": {},
          "execution_count": 10
        }
      ]
    },
    {
      "cell_type": "markdown",
      "metadata": {
        "id": "nmD0c8LHdX2N"
      },
      "source": [
        "# Evaluation"
      ]
    },
    {
      "cell_type": "code",
      "metadata": {
        "colab": {
          "base_uri": "https://localhost:8080/"
        },
        "id": "ZCAtCw2OdpOv",
        "outputId": "f5f45d4d-09d0-408e-a4de-8c34b7c837c2"
      },
      "source": [
        "from sklearn.metrics import mean_absolute_error\n",
        "print(\"Premium Price Estimation Difference is $%.2f\" %mean_absolute_error(y_test, rfr_reg.predict(x_test)))\n",
        "ev1 = mean_absolute_error(y_test, rfr_reg.predict(x_test))"
      ],
      "execution_count": null,
      "outputs": [
        {
          "output_type": "stream",
          "name": "stdout",
          "text": [
            "Premium Price Estimation Difference is $4559.60\n"
          ]
        }
      ]
    },
    {
      "cell_type": "markdown",
      "metadata": {
        "id": "fXSiomYngqst"
      },
      "source": [
        "# Round 2 "
      ]
    },
    {
      "cell_type": "markdown",
      "metadata": {
        "id": "vkS56ezFewNE"
      },
      "source": [
        "Select Top 5 Related Features "
      ]
    },
    {
      "cell_type": "code",
      "metadata": {
        "id": "-xsWk5infBI9",
        "colab": {
          "base_uri": "https://localhost:8080/"
        },
        "outputId": "b563306f-93d4-4db2-872b-c8a0988de70c"
      },
      "source": [
        "corr.sort_values(ascending=False)"
      ],
      "execution_count": null,
      "outputs": [
        {
          "output_type": "execute_result",
          "data": {
            "text/plain": [
              "Age                        0.697540\n",
              "AnyTransplants             0.289056\n",
              "NumberOfMajorSurgeries     0.264250\n",
              "AnyChronicDiseases         0.208610\n",
              "BloodPressureProblems      0.167097\n",
              "Weight                     0.141507\n",
              "HistoryOfCancerInFamily    0.083139\n",
              "Diabetes                   0.076209\n",
              "Height                     0.026910\n",
              "KnownAllergies             0.012103\n",
              "dtype: float64"
            ]
          },
          "metadata": {},
          "execution_count": 12
        }
      ]
    },
    {
      "cell_type": "code",
      "metadata": {
        "id": "PnxnKLDbeqwU"
      },
      "source": [
        "top5 = ['Age', 'AnyTransplants', 'NumberOfMajorSurgeries', 'BloodPressureProblems', 'Weight']\n",
        "top_x = df.loc[:, top5].values"
      ],
      "execution_count": null,
      "outputs": []
    },
    {
      "cell_type": "code",
      "metadata": {
        "id": "3pGIrhmrfta9"
      },
      "source": [
        "top_x_train, top_x_test, top_y_train, top_y_test = train_test_split(top_x, y, train_size=0.9, random_state=1)\n",
        "\n",
        "sc = StandardScaler()\n",
        "top_x_train = sc.fit_transform(top_x_train)\n",
        "top_x_test = sc.transform(top_x_test)"
      ],
      "execution_count": null,
      "outputs": []
    },
    {
      "cell_type": "code",
      "metadata": {
        "colab": {
          "base_uri": "https://localhost:8080/"
        },
        "id": "0xFZA0jif7tq",
        "outputId": "a6480bcb-e3c6-4d03-cf8f-ca9d3b503933"
      },
      "source": [
        "top_rfr_reg = RandomForestRegressor(n_estimators=1000, random_state=0) # number of trees (default is 100)\n",
        "top_rfr_reg.fit(top_x_train, top_y_train)\n",
        "\n",
        "print(\"Premium Price Estimation Difference is $%.2f\" %mean_absolute_error(top_y_test, top_rfr_reg.predict(top_x_test)))\n",
        "ev2 = mean_absolute_error(top_y_test, top_rfr_reg.predict(top_x_test))"
      ],
      "execution_count": null,
      "outputs": [
        {
          "output_type": "stream",
          "name": "stdout",
          "text": [
            "Premium Price Estimation Difference is $1606.05\n"
          ]
        }
      ]
    },
    {
      "cell_type": "markdown",
      "metadata": {
        "id": "4mJa3tvXi3hz"
      },
      "source": [
        "# Round 3 Age Base [Top 5 features]"
      ]
    },
    {
      "cell_type": "markdown",
      "metadata": {
        "id": "KtHP_rmdkOYc"
      },
      "source": [
        "Between 18 and 30"
      ]
    },
    {
      "cell_type": "code",
      "metadata": {
        "id": "3xe0ftbQi3Fr",
        "colab": {
          "base_uri": "https://localhost:8080/"
        },
        "outputId": "ebddf3d4-c3ae-49e2-b72b-359f8429356f"
      },
      "source": [
        "y_corr.sort_values(ascending=False)"
      ],
      "execution_count": null,
      "outputs": [
        {
          "output_type": "execute_result",
          "data": {
            "text/plain": [
              "AnyChronicDiseases         0.392123\n",
              "Age                        0.279483\n",
              "BloodPressureProblems      0.210001\n",
              "AnyTransplants             0.190133\n",
              "Weight                     0.089217\n",
              "NumberOfMajorSurgeries     0.022974\n",
              "HistoryOfCancerInFamily   -0.002234\n",
              "Diabetes                  -0.025038\n",
              "KnownAllergies            -0.027177\n",
              "Height                    -0.034182\n",
              "dtype: float64"
            ]
          },
          "metadata": {},
          "execution_count": 16
        }
      ]
    },
    {
      "cell_type": "code",
      "metadata": {
        "colab": {
          "base_uri": "https://localhost:8080/"
        },
        "id": "BkuWqzxJjZ8K",
        "outputId": "29ae7410-59ac-4076-f6ce-573b0d0f51bd"
      },
      "source": [
        "y_top5 = ['Age', 'AnyTransplants', 'NumberOfMajorSurgeries', 'BloodPressureProblems', 'Weight']\n",
        "\n",
        "y_top_x = young.loc[:, y_top5].values\n",
        "y_y = young.iloc[:, -1].values\n",
        "\n",
        "y_x_train, y_x_test, y_y_train, y_y_test = train_test_split(y_top_x, y_y, train_size=0.9, random_state=1)\n",
        "\n",
        "sc = StandardScaler()\n",
        "y_x_train = sc.fit_transform(y_x_train)\n",
        "y_x_test = sc.transform(y_x_test)\n",
        "\n",
        "y_rfr_reg = RandomForestRegressor(n_estimators=100, random_state=0) # number of trees (default is 100)\n",
        "y_rfr_reg.fit(y_x_train, y_y_train)\n",
        "\n",
        "print(\"Premium Price Estimation Difference is $%.2f\" %mean_absolute_error(y_y_test, y_rfr_reg.predict(y_x_test)))\n",
        "\n",
        "res_y = mean_absolute_error(y_y_test, y_rfr_reg.predict(y_x_test))"
      ],
      "execution_count": null,
      "outputs": [
        {
          "output_type": "stream",
          "name": "stdout",
          "text": [
            "Premium Price Estimation Difference is $900.37\n"
          ]
        }
      ]
    },
    {
      "cell_type": "markdown",
      "metadata": {
        "id": "AWAa2opBkWBw"
      },
      "source": [
        "Between 30 and 42"
      ]
    },
    {
      "cell_type": "code",
      "metadata": {
        "id": "pHUxua7AkUj3",
        "colab": {
          "base_uri": "https://localhost:8080/"
        },
        "outputId": "d0dc971e-8b12-442c-e174-ae789ee4213c"
      },
      "source": [
        "a1_corr.sort_values(ascending=False)"
      ],
      "execution_count": null,
      "outputs": [
        {
          "output_type": "execute_result",
          "data": {
            "text/plain": [
              "AnyTransplants             0.701766\n",
              "HistoryOfCancerInFamily    0.360884\n",
              "AnyChronicDiseases         0.185736\n",
              "NumberOfMajorSurgeries     0.180751\n",
              "Age                        0.168016\n",
              "KnownAllergies             0.102118\n",
              "Weight                     0.100211\n",
              "Height                     0.006177\n",
              "BloodPressureProblems     -0.016865\n",
              "Diabetes                  -0.068791\n",
              "dtype: float64"
            ]
          },
          "metadata": {},
          "execution_count": 19
        }
      ]
    },
    {
      "cell_type": "code",
      "metadata": {
        "colab": {
          "base_uri": "https://localhost:8080/"
        },
        "id": "RCg_vI2skq7s",
        "outputId": "d5f3e968-1c8f-4502-9244-327809c90089"
      },
      "source": [
        "a1_top5 = ['Age', 'AnyChronicDiseases', 'NumberOfMajorSurgeries', 'HistoryOfCancerInFamily', 'AnyTransplants']\n",
        "\n",
        "a1_top_x = adult1.loc[:, a1_top5].values\n",
        "a1_y = adult1.iloc[:, -1].values\n",
        "\n",
        "a1_x_train, a1_x_test, a1_y_train, a1_y_test = train_test_split(a1_top_x, a1_y, train_size=0.9, random_state=1)\n",
        "\n",
        "sc = StandardScaler()\n",
        "a1_x_train = sc.fit_transform(a1_x_train)\n",
        "a1_x_test = sc.transform(a1_x_test)\n",
        "\n",
        "a1_rfr_reg = RandomForestRegressor(n_estimators=10, random_state=0) # number of trees (default is 100)\n",
        "a1_rfr_reg.fit(a1_x_train, a1_y_train)\n",
        "\n",
        "print(\"Premium Price Estimation Difference is $%.2f\" %mean_absolute_error(a1_y_test, a1_rfr_reg.predict(a1_x_test)))\n",
        "\n",
        "res_a1 = mean_absolute_error(a1_y_test, a1_rfr_reg.predict(a1_x_test))"
      ],
      "execution_count": null,
      "outputs": [
        {
          "output_type": "stream",
          "name": "stdout",
          "text": [
            "Premium Price Estimation Difference is $500.26\n"
          ]
        }
      ]
    },
    {
      "cell_type": "markdown",
      "metadata": {
        "id": "uJ2gFDYCnZZK"
      },
      "source": [
        "Between 42 and 54"
      ]
    },
    {
      "cell_type": "code",
      "metadata": {
        "id": "9OkL9XclmC5q",
        "colab": {
          "base_uri": "https://localhost:8080/"
        },
        "outputId": "97d847fc-5bc9-4873-d2d7-d364a46e40ba"
      },
      "source": [
        "a2_corr.sort_values(ascending=False)"
      ],
      "execution_count": null,
      "outputs": [
        {
          "output_type": "execute_result",
          "data": {
            "text/plain": [
              "AnyTransplants             0.457739\n",
              "Weight                     0.372832\n",
              "Age                        0.279309\n",
              "HistoryOfCancerInFamily    0.188840\n",
              "AnyChronicDiseases         0.187229\n",
              "NumberOfMajorSurgeries     0.153886\n",
              "KnownAllergies             0.035739\n",
              "Height                     0.009577\n",
              "BloodPressureProblems     -0.025848\n",
              "Diabetes                  -0.030344\n",
              "dtype: float64"
            ]
          },
          "metadata": {},
          "execution_count": 21
        }
      ]
    },
    {
      "cell_type": "code",
      "metadata": {
        "colab": {
          "base_uri": "https://localhost:8080/"
        },
        "id": "GqZy1a6TmHCP",
        "outputId": "de7785c7-2992-446f-b5be-6b8aede16c45"
      },
      "source": [
        "a2_top5 = ['Age', 'AnyChronicDiseases', 'Weight', 'HistoryOfCancerInFamily', 'AnyTransplants']\n",
        "\n",
        "a2_top_x = adult2.loc[:, a2_top5].values\n",
        "a2_y = adult2.iloc[:, -1].values\n",
        "\n",
        "a2_x_train, a2_x_test, a2_y_train, a2_y_test = train_test_split(a2_top_x, a2_y, train_size=0.9, random_state=1)\n",
        "\n",
        "sc = StandardScaler()\n",
        "a2_x_train = sc.fit_transform(a2_x_train)\n",
        "a2_x_test = sc.transform(a2_x_test)\n",
        "\n",
        "a2_rfr_reg = RandomForestRegressor(n_estimators=20, random_state=0) # number of trees (default is 100)\n",
        "a2_rfr_reg.fit(a2_x_train, a2_y_train)\n",
        "\n",
        "print(\"Premium Price Estimation Difference is $%.2f\" %mean_absolute_error(a2_y_test, a2_rfr_reg.predict(a2_x_test)))\n",
        "\n",
        "res_a2 = mean_absolute_error(a2_y_test, a2_rfr_reg.predict(a2_x_test))"
      ],
      "execution_count": null,
      "outputs": [
        {
          "output_type": "stream",
          "name": "stdout",
          "text": [
            "Premium Price Estimation Difference is $2931.67\n"
          ]
        }
      ]
    },
    {
      "cell_type": "markdown",
      "metadata": {
        "id": "XTwzV5VXnfRq"
      },
      "source": [
        "Between 54 and 66"
      ]
    },
    {
      "cell_type": "code",
      "metadata": {
        "id": "K97JauI-nH2u",
        "colab": {
          "base_uri": "https://localhost:8080/"
        },
        "outputId": "3b182d35-2655-4a6c-f2ec-62dd56a3b689"
      },
      "source": [
        "s_corr.sort_values(ascending=False)"
      ],
      "execution_count": null,
      "outputs": [
        {
          "output_type": "execute_result",
          "data": {
            "text/plain": [
              "Weight                     0.471978\n",
              "AnyTransplants             0.444280\n",
              "AnyChronicDiseases         0.101037\n",
              "HistoryOfCancerInFamily    0.086653\n",
              "Age                        0.038370\n",
              "KnownAllergies             0.030195\n",
              "Height                     0.022144\n",
              "BloodPressureProblems     -0.104692\n",
              "NumberOfMajorSurgeries    -0.132850\n",
              "Diabetes                  -0.144390\n",
              "dtype: float64"
            ]
          },
          "metadata": {},
          "execution_count": 25
        }
      ]
    },
    {
      "cell_type": "code",
      "metadata": {
        "colab": {
          "base_uri": "https://localhost:8080/"
        },
        "id": "hv5bP9djnscr",
        "outputId": "4f37a79c-c423-46f5-cb79-74671200cd4b"
      },
      "source": [
        "s_top5 = ['Diabetes', 'BloodPressureProblems', 'Weight', 'NumberOfMajorSurgeries', 'AnyTransplants']\n",
        "\n",
        "s_top_x = senior.loc[:, s_top5].values\n",
        "s_y = senior.iloc[:, -1].values\n",
        "\n",
        "s_x_train, s_x_test, s_y_train, s_y_test = train_test_split(s_top_x, s_y, train_size=0.9, random_state=1)\n",
        "\n",
        "sc = StandardScaler()\n",
        "s_x_train = sc.fit_transform(s_x_train)\n",
        "s_x_test = sc.transform(s_x_test)\n",
        "\n",
        "s_rfr_reg = RandomForestRegressor(n_estimators=50, random_state=0) # number of trees (default is 100)\n",
        "s_rfr_reg.fit(s_x_train, s_y_train)\n",
        "\n",
        "print(\"Premium Price Estimation Difference is $%.2f\" %mean_absolute_error(s_y_test, s_rfr_reg.predict(s_x_test)))\n",
        "\n",
        "res_s = mean_absolute_error(s_y_test, s_rfr_reg.predict(s_x_test))"
      ],
      "execution_count": null,
      "outputs": [
        {
          "output_type": "stream",
          "name": "stdout",
          "text": [
            "Premium Price Estimation Difference is $1091.51\n"
          ]
        }
      ]
    },
    {
      "cell_type": "markdown",
      "metadata": {
        "id": "9EVfF5mcqEVD"
      },
      "source": [
        "# Evaluation"
      ]
    },
    {
      "cell_type": "code",
      "metadata": {
        "colab": {
          "base_uri": "https://localhost:8080/"
        },
        "id": "9YEOtB1YoWyD",
        "outputId": "7d7770ed-2319-4702-a276-4ba15298ec31"
      },
      "source": [
        "ev3 = (res_y + res_a1 + res_a2 + res_s) / 4\n",
        "\n",
        "print(\"Round 1:\", ev1,  \" Round 2:\", ev2,  \" Round 3:\", ev3)"
      ],
      "execution_count": null,
      "outputs": [
        {
          "output_type": "stream",
          "name": "stdout",
          "text": [
            "Round 1: 4559.596584896585  Round 2: 1606.050529100529  Round 3: 1355.9509836228588\n"
          ]
        }
      ]
    },
    {
      "cell_type": "markdown",
      "metadata": {
        "id": "btOxrWPGEfCZ"
      },
      "source": [
        "Age Base is better than other models"
      ]
    },
    {
      "cell_type": "code",
      "metadata": {
        "colab": {
          "base_uri": "https://localhost:8080/",
          "height": 282
        },
        "id": "dw8uM6-Jq4jo",
        "outputId": "81c002c5-c220-4016-a7ab-b7c2a810f98b"
      },
      "source": [
        "sns.barplot(x=g, y=[res_y, res_a1, res_a2, res_s])\n",
        "plt.axhline(y=ev1, color='r', linestyle='-', label='Round 1')\n",
        "plt.axhline(y=ev2, color='g', linestyle='-', label='Round 2')\n",
        "plt.legend()"
      ],
      "execution_count": null,
      "outputs": [
        {
          "output_type": "execute_result",
          "data": {
            "text/plain": [
              "<matplotlib.legend.Legend at 0x7f39f7bf27d0>"
            ]
          },
          "metadata": {},
          "execution_count": 62
        },
        {
          "output_type": "display_data",
          "data": {
            "image/png": "[encoded data removed]",
            "text/plain": [
              "<Figure size 432x288 with 1 Axes>"
            ]
          },
          "metadata": {
            "needs_background": "light"
          }
        }
      ]
    },
    {
      "cell_type": "markdown",
      "metadata": {
        "id": "KWRmoluerw_g"
      },
      "source": [
        "# ANN Model (More Data, Much Better)"
      ]
    },
    {
      "cell_type": "code",
      "metadata": {
        "id": "84Zs7OuXrvr8"
      },
      "source": [
        "import tensorflow as tf\n",
        "from tensorflow.keras.layers import Input, Conv2D, Dense, Flatten, Dropout, MaxPool2D, BatchNormalization, Activation, Add, ZeroPadding2D\n",
        "from tensorflow.keras.models import Model\n",
        "from tensorflow.keras.optimizers import Adam"
      ],
      "execution_count": null,
      "outputs": []
    },
    {
      "cell_type": "code",
      "metadata": {
        "id": "oxF4xszDOt3E"
      },
      "source": [
        "# independent variable\n",
        "ann_x = df.iloc[:, 1:-1].values\n",
        "\n",
        "# dependent variable\n",
        "ann_y = df.iloc[:, -1].values\n",
        "\n",
        "# splitting into 4 parts, but it is too small\n",
        "ann_x_train, ann_x_test, ann_y_train, ann_y_test = train_test_split(ann_x, ann_y, train_size=0.9, random_state=1)\n",
        "\n",
        "sc = StandardScaler()\n",
        "ann_x_train = sc.fit_transform(ann_x_train)\n",
        "ann_x_test = sc.transform(ann_x_test)"
      ],
      "execution_count": null,
      "outputs": []
    },
    {
      "cell_type": "code",
      "metadata": {
        "id": "N7UXHXkSsOHQ"
      },
      "source": [
        "# initializing ANN\n",
        "\n",
        "m = tf.keras.Sequential([\n",
        "    Input(shape=(9, )),                        \n",
        "    Dense(200, activation = tf.keras.layers.ReLU(negative_slope=1.0)), # ann_x_train include many negative values\n",
        "    Dense(10, activation = tf.keras.layers.ReLU(negative_slope=1.0)),\n",
        "    Dense(1)\n",
        "])\n",
        "\n",
        "m.compile(loss='mse', optimizer=Adam(learning_rate=0.0005), metrics = [\"mae\"])\n",
        "\n",
        "m.summary()"
      ],
      "execution_count": null,
      "outputs": []
    },
    {
      "cell_type": "markdown",
      "metadata": {
        "id": "eGx9EHFqpkTG"
      },
      "source": [
        "Training"
      ]
    },
    {
      "cell_type": "code",
      "metadata": {
        "id": "UstJYyo0wuO-"
      },
      "source": [
        "model = m.fit(ann_x_train, ann_y_train, epochs=300)"
      ],
      "execution_count": null,
      "outputs": []
    },
    {
      "cell_type": "markdown",
      "metadata": {
        "id": "MfDcOLVDphgU"
      },
      "source": [
        "# Evaluation"
      ]
    },
    {
      "cell_type": "code",
      "metadata": {
        "colab": {
          "base_uri": "https://localhost:8080/",
          "height": 293
        },
        "id": "_55VXg__TN5y",
        "outputId": "4e15a16b-c19b-4d1c-a1b9-085cbcc8c181"
      },
      "source": [
        "pd.DataFrame(model.history['loss']).plot()"
      ],
      "execution_count": null,
      "outputs": [
        {
          "output_type": "execute_result",
          "data": {
            "text/plain": [
              "<matplotlib.axes._subplots.AxesSubplot at 0x7f3983765b90>"
            ]
          },
          "metadata": {},
          "execution_count": 482
        },
        {
          "output_type": "display_data",
          "data": {
            "image/png": "[encoded data removed]",
            "text/plain": [
              "<Figure size 432x288 with 1 Axes>"
            ]
          },
          "metadata": {
            "needs_background": "light"
          }
        }
      ]
    },
    {
      "cell_type": "code",
      "metadata": {
        "colab": {
          "base_uri": "https://localhost:8080/"
        },
        "id": "vv7JrR5Ky4Vi",
        "outputId": "2c4eee21-24de-40e3-85f5-ae198e7d74b3"
      },
      "source": [
        "print(\"Round 1:\", ev1, \" ANN Model:\", mean_absolute_error(ann_y_test, m.predict(ann_x_test)))"
      ],
      "execution_count": null,
      "outputs": [
        {
          "output_type": "stream",
          "name": "stdout",
          "text": [
            "Round 1: 4559.596584896585  ANN Model: 4541.106100063132\n"
          ]
        }
      ]
    },
    {
      "cell_type": "markdown",
      "metadata": {
        "id": "Fqf64sAXoFRQ"
      },
      "source": [
        "The reason why the values close is the size of the datasets.\n",
        "\n",
        "DL needs more data for better performances."
      ]
    }
  ]
}