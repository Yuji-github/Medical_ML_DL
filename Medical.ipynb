{
  "nbformat": 4,
  "nbformat_minor": 0,
  "metadata": {
    "colab": {
      "name": "Medical.ipynb",
      "provenance": [],
      "collapsed_sections": [],
      "authorship_tag": "ABX9TyNEykHZDDmAoSfOK5kdnXKC",
      "include_colab_link": true
    },
    "kernelspec": {
      "name": "python3",
      "display_name": "Python 3"
    },
    "language_info": {
      "name": "python"
    }
  },
  "cells": [
    {
      "cell_type": "markdown",
      "metadata": {
        "id": "view-in-github",
        "colab_type": "text"
      },
      "source": [
        "<a href=\"https://colab.research.google.com/github/Yuji-github/Medical_ML_DL/blob/main/Medical.ipynb\" target=\"_parent\"><img src=\"https://colab.research.google.com/assets/colab-badge.svg\" alt=\"Open In Colab\"/></a>"
      ]
    },
    {
      "cell_type": "code",
      "metadata": {
        "id": "rIEhbmb0K0Ue"
      },
      "source": [
        "import pandas as pd \n",
        "import numpy as np \n",
        "import matplotlib.pyplot as plt\n",
        "import seaborn as sns"
      ],
      "execution_count": 1,
      "outputs": []
    },
    {
      "cell_type": "markdown",
      "metadata": {
        "id": "K3SyjnqvLIIt"
      },
      "source": [
        "Import dataset"
      ]
    },
    {
      "cell_type": "code",
      "metadata": {
        "id": "lx9BHOaALHrH",
        "colab": {
          "base_uri": "https://localhost:8080/",
          "height": 424
        },
        "outputId": "70de9522-a470-4888-fcdf-e1ae051f9916"
      },
      "source": [
        "df = pd.read_csv('Medicalpremium.csv')\n",
        "df"
      ],
      "execution_count": 2,
      "outputs": [
        {
          "output_type": "execute_result",
          "data": {
            "text/html": [
              "<div>\n",
              "<style scoped>\n",
              "    .dataframe tbody tr th:only-of-type {\n",
              "        vertical-align: middle;\n",
              "    }\n",
              "\n",
              "    .dataframe tbody tr th {\n",
              "        vertical-align: top;\n",
              "    }\n",
              "\n",
              "    .dataframe thead th {\n",
              "        text-align: right;\n",
              "    }\n",
              "</style>\n",
              "<table border=\"1\" class=\"dataframe\">\n",
              "  <thead>\n",
              "    <tr style=\"text-align: right;\">\n",
              "      <th></th>\n",
              "      <th>Age</th>\n",
              "      <th>Diabetes</th>\n",
              "      <th>BloodPressureProblems</th>\n",
              "      <th>AnyTransplants</th>\n",
              "      <th>AnyChronicDiseases</th>\n",
              "      <th>Height</th>\n",
              "      <th>Weight</th>\n",
              "      <th>KnownAllergies</th>\n",
              "      <th>HistoryOfCancerInFamily</th>\n",
              "      <th>NumberOfMajorSurgeries</th>\n",
              "      <th>PremiumPrice</th>\n",
              "    </tr>\n",
              "  </thead>\n",
              "  <tbody>\n",
              "    <tr>\n",
              "      <th>0</th>\n",
              "      <td>45</td>\n",
              "      <td>0</td>\n",
              "      <td>0</td>\n",
              "      <td>0</td>\n",
              "      <td>0</td>\n",
              "      <td>155</td>\n",
              "      <td>57</td>\n",
              "      <td>0</td>\n",
              "      <td>0</td>\n",
              "      <td>0</td>\n",
              "      <td>25000</td>\n",
              "    </tr>\n",
              "    <tr>\n",
              "      <th>1</th>\n",
              "      <td>60</td>\n",
              "      <td>1</td>\n",
              "      <td>0</td>\n",
              "      <td>0</td>\n",
              "      <td>0</td>\n",
              "      <td>180</td>\n",
              "      <td>73</td>\n",
              "      <td>0</td>\n",
              "      <td>0</td>\n",
              "      <td>0</td>\n",
              "      <td>29000</td>\n",
              "    </tr>\n",
              "    <tr>\n",
              "      <th>2</th>\n",
              "      <td>36</td>\n",
              "      <td>1</td>\n",
              "      <td>1</td>\n",
              "      <td>0</td>\n",
              "      <td>0</td>\n",
              "      <td>158</td>\n",
              "      <td>59</td>\n",
              "      <td>0</td>\n",
              "      <td>0</td>\n",
              "      <td>1</td>\n",
              "      <td>23000</td>\n",
              "    </tr>\n",
              "    <tr>\n",
              "      <th>3</th>\n",
              "      <td>52</td>\n",
              "      <td>1</td>\n",
              "      <td>1</td>\n",
              "      <td>0</td>\n",
              "      <td>1</td>\n",
              "      <td>183</td>\n",
              "      <td>93</td>\n",
              "      <td>0</td>\n",
              "      <td>0</td>\n",
              "      <td>2</td>\n",
              "      <td>28000</td>\n",
              "    </tr>\n",
              "    <tr>\n",
              "      <th>4</th>\n",
              "      <td>38</td>\n",
              "      <td>0</td>\n",
              "      <td>0</td>\n",
              "      <td>0</td>\n",
              "      <td>1</td>\n",
              "      <td>166</td>\n",
              "      <td>88</td>\n",
              "      <td>0</td>\n",
              "      <td>0</td>\n",
              "      <td>1</td>\n",
              "      <td>23000</td>\n",
              "    </tr>\n",
              "    <tr>\n",
              "      <th>...</th>\n",
              "      <td>...</td>\n",
              "      <td>...</td>\n",
              "      <td>...</td>\n",
              "      <td>...</td>\n",
              "      <td>...</td>\n",
              "      <td>...</td>\n",
              "      <td>...</td>\n",
              "      <td>...</td>\n",
              "      <td>...</td>\n",
              "      <td>...</td>\n",
              "      <td>...</td>\n",
              "    </tr>\n",
              "    <tr>\n",
              "      <th>981</th>\n",
              "      <td>18</td>\n",
              "      <td>0</td>\n",
              "      <td>0</td>\n",
              "      <td>0</td>\n",
              "      <td>0</td>\n",
              "      <td>169</td>\n",
              "      <td>67</td>\n",
              "      <td>0</td>\n",
              "      <td>0</td>\n",
              "      <td>0</td>\n",
              "      <td>15000</td>\n",
              "    </tr>\n",
              "    <tr>\n",
              "      <th>982</th>\n",
              "      <td>64</td>\n",
              "      <td>1</td>\n",
              "      <td>1</td>\n",
              "      <td>0</td>\n",
              "      <td>0</td>\n",
              "      <td>153</td>\n",
              "      <td>70</td>\n",
              "      <td>0</td>\n",
              "      <td>0</td>\n",
              "      <td>3</td>\n",
              "      <td>28000</td>\n",
              "    </tr>\n",
              "    <tr>\n",
              "      <th>983</th>\n",
              "      <td>56</td>\n",
              "      <td>0</td>\n",
              "      <td>1</td>\n",
              "      <td>0</td>\n",
              "      <td>0</td>\n",
              "      <td>155</td>\n",
              "      <td>71</td>\n",
              "      <td>0</td>\n",
              "      <td>0</td>\n",
              "      <td>1</td>\n",
              "      <td>29000</td>\n",
              "    </tr>\n",
              "    <tr>\n",
              "      <th>984</th>\n",
              "      <td>47</td>\n",
              "      <td>1</td>\n",
              "      <td>1</td>\n",
              "      <td>0</td>\n",
              "      <td>0</td>\n",
              "      <td>158</td>\n",
              "      <td>73</td>\n",
              "      <td>1</td>\n",
              "      <td>0</td>\n",
              "      <td>1</td>\n",
              "      <td>39000</td>\n",
              "    </tr>\n",
              "    <tr>\n",
              "      <th>985</th>\n",
              "      <td>21</td>\n",
              "      <td>0</td>\n",
              "      <td>0</td>\n",
              "      <td>0</td>\n",
              "      <td>0</td>\n",
              "      <td>158</td>\n",
              "      <td>75</td>\n",
              "      <td>1</td>\n",
              "      <td>0</td>\n",
              "      <td>1</td>\n",
              "      <td>15000</td>\n",
              "    </tr>\n",
              "  </tbody>\n",
              "</table>\n",
              "<p>986 rows × 11 columns</p>\n",
              "</div>"
            ],
            "text/plain": [
              "     Age  Diabetes  ...  NumberOfMajorSurgeries  PremiumPrice\n",
              "0     45         0  ...                       0         25000\n",
              "1     60         1  ...                       0         29000\n",
              "2     36         1  ...                       1         23000\n",
              "3     52         1  ...                       2         28000\n",
              "4     38         0  ...                       1         23000\n",
              "..   ...       ...  ...                     ...           ...\n",
              "981   18         0  ...                       0         15000\n",
              "982   64         1  ...                       3         28000\n",
              "983   56         0  ...                       1         29000\n",
              "984   47         1  ...                       1         39000\n",
              "985   21         0  ...                       1         15000\n",
              "\n",
              "[986 rows x 11 columns]"
            ]
          },
          "metadata": {},
          "execution_count": 2
        }
      ]
    },
    {
      "cell_type": "markdown",
      "metadata": {
        "id": "IW_ynJxHaKZ2"
      },
      "source": [
        "# Preprocessing"
      ]
    },
    {
      "cell_type": "markdown",
      "metadata": {
        "id": "_RngC41yMPzN"
      },
      "source": [
        "0 is No, 1 is Yes"
      ]
    },
    {
      "cell_type": "code",
      "metadata": {
        "id": "OFvh3NltLWLk",
        "colab": {
          "base_uri": "https://localhost:8080/"
        },
        "outputId": "54accac0-8fa6-405f-e8e1-a80cb363ecf5"
      },
      "source": [
        "df.info()"
      ],
      "execution_count": 5,
      "outputs": [
        {
          "output_type": "stream",
          "name": "stdout",
          "text": [
            "<class 'pandas.core.frame.DataFrame'>\n",
            "RangeIndex: 986 entries, 0 to 985\n",
            "Data columns (total 11 columns):\n",
            " #   Column                   Non-Null Count  Dtype\n",
            "---  ------                   --------------  -----\n",
            " 0   Age                      986 non-null    int64\n",
            " 1   Diabetes                 986 non-null    int64\n",
            " 2   BloodPressureProblems    986 non-null    int64\n",
            " 3   AnyTransplants           986 non-null    int64\n",
            " 4   AnyChronicDiseases       986 non-null    int64\n",
            " 5   Height                   986 non-null    int64\n",
            " 6   Weight                   986 non-null    int64\n",
            " 7   KnownAllergies           986 non-null    int64\n",
            " 8   HistoryOfCancerInFamily  986 non-null    int64\n",
            " 9   NumberOfMajorSurgeries   986 non-null    int64\n",
            " 10  PremiumPrice             986 non-null    int64\n",
            "dtypes: int64(11)\n",
            "memory usage: 84.9 KB\n"
          ]
        }
      ]
    },
    {
      "cell_type": "markdown",
      "metadata": {
        "id": "eBT3EfvAV34y"
      },
      "source": [
        "No missing values"
      ]
    },
    {
      "cell_type": "code",
      "metadata": {
        "id": "AleIREdNLZa1",
        "colab": {
          "base_uri": "https://localhost:8080/",
          "height": 300
        },
        "outputId": "ae877e61-4d3b-491a-ab33-3e0145721b81"
      },
      "source": [
        "df.describe()"
      ],
      "execution_count": 4,
      "outputs": [
        {
          "output_type": "execute_result",
          "data": {
            "text/html": [
              "<div>\n",
              "<style scoped>\n",
              "    .dataframe tbody tr th:only-of-type {\n",
              "        vertical-align: middle;\n",
              "    }\n",
              "\n",
              "    .dataframe tbody tr th {\n",
              "        vertical-align: top;\n",
              "    }\n",
              "\n",
              "    .dataframe thead th {\n",
              "        text-align: right;\n",
              "    }\n",
              "</style>\n",
              "<table border=\"1\" class=\"dataframe\">\n",
              "  <thead>\n",
              "    <tr style=\"text-align: right;\">\n",
              "      <th></th>\n",
              "      <th>Age</th>\n",
              "      <th>Diabetes</th>\n",
              "      <th>BloodPressureProblems</th>\n",
              "      <th>AnyTransplants</th>\n",
              "      <th>AnyChronicDiseases</th>\n",
              "      <th>Height</th>\n",
              "      <th>Weight</th>\n",
              "      <th>KnownAllergies</th>\n",
              "      <th>HistoryOfCancerInFamily</th>\n",
              "      <th>NumberOfMajorSurgeries</th>\n",
              "      <th>PremiumPrice</th>\n",
              "    </tr>\n",
              "  </thead>\n",
              "  <tbody>\n",
              "    <tr>\n",
              "      <th>count</th>\n",
              "      <td>986.000000</td>\n",
              "      <td>986.000000</td>\n",
              "      <td>986.000000</td>\n",
              "      <td>986.000000</td>\n",
              "      <td>986.000000</td>\n",
              "      <td>986.000000</td>\n",
              "      <td>986.000000</td>\n",
              "      <td>986.000000</td>\n",
              "      <td>986.000000</td>\n",
              "      <td>986.000000</td>\n",
              "      <td>986.000000</td>\n",
              "    </tr>\n",
              "    <tr>\n",
              "      <th>mean</th>\n",
              "      <td>41.745436</td>\n",
              "      <td>0.419878</td>\n",
              "      <td>0.468560</td>\n",
              "      <td>0.055781</td>\n",
              "      <td>0.180527</td>\n",
              "      <td>168.182556</td>\n",
              "      <td>76.950304</td>\n",
              "      <td>0.215010</td>\n",
              "      <td>0.117647</td>\n",
              "      <td>0.667343</td>\n",
              "      <td>24336.713996</td>\n",
              "    </tr>\n",
              "    <tr>\n",
              "      <th>std</th>\n",
              "      <td>13.963371</td>\n",
              "      <td>0.493789</td>\n",
              "      <td>0.499264</td>\n",
              "      <td>0.229615</td>\n",
              "      <td>0.384821</td>\n",
              "      <td>10.098155</td>\n",
              "      <td>14.265096</td>\n",
              "      <td>0.411038</td>\n",
              "      <td>0.322353</td>\n",
              "      <td>0.749205</td>\n",
              "      <td>6248.184382</td>\n",
              "    </tr>\n",
              "    <tr>\n",
              "      <th>min</th>\n",
              "      <td>18.000000</td>\n",
              "      <td>0.000000</td>\n",
              "      <td>0.000000</td>\n",
              "      <td>0.000000</td>\n",
              "      <td>0.000000</td>\n",
              "      <td>145.000000</td>\n",
              "      <td>51.000000</td>\n",
              "      <td>0.000000</td>\n",
              "      <td>0.000000</td>\n",
              "      <td>0.000000</td>\n",
              "      <td>15000.000000</td>\n",
              "    </tr>\n",
              "    <tr>\n",
              "      <th>25%</th>\n",
              "      <td>30.000000</td>\n",
              "      <td>0.000000</td>\n",
              "      <td>0.000000</td>\n",
              "      <td>0.000000</td>\n",
              "      <td>0.000000</td>\n",
              "      <td>161.000000</td>\n",
              "      <td>67.000000</td>\n",
              "      <td>0.000000</td>\n",
              "      <td>0.000000</td>\n",
              "      <td>0.000000</td>\n",
              "      <td>21000.000000</td>\n",
              "    </tr>\n",
              "    <tr>\n",
              "      <th>50%</th>\n",
              "      <td>42.000000</td>\n",
              "      <td>0.000000</td>\n",
              "      <td>0.000000</td>\n",
              "      <td>0.000000</td>\n",
              "      <td>0.000000</td>\n",
              "      <td>168.000000</td>\n",
              "      <td>75.000000</td>\n",
              "      <td>0.000000</td>\n",
              "      <td>0.000000</td>\n",
              "      <td>1.000000</td>\n",
              "      <td>23000.000000</td>\n",
              "    </tr>\n",
              "    <tr>\n",
              "      <th>75%</th>\n",
              "      <td>53.000000</td>\n",
              "      <td>1.000000</td>\n",
              "      <td>1.000000</td>\n",
              "      <td>0.000000</td>\n",
              "      <td>0.000000</td>\n",
              "      <td>176.000000</td>\n",
              "      <td>87.000000</td>\n",
              "      <td>0.000000</td>\n",
              "      <td>0.000000</td>\n",
              "      <td>1.000000</td>\n",
              "      <td>28000.000000</td>\n",
              "    </tr>\n",
              "    <tr>\n",
              "      <th>max</th>\n",
              "      <td>66.000000</td>\n",
              "      <td>1.000000</td>\n",
              "      <td>1.000000</td>\n",
              "      <td>1.000000</td>\n",
              "      <td>1.000000</td>\n",
              "      <td>188.000000</td>\n",
              "      <td>132.000000</td>\n",
              "      <td>1.000000</td>\n",
              "      <td>1.000000</td>\n",
              "      <td>3.000000</td>\n",
              "      <td>40000.000000</td>\n",
              "    </tr>\n",
              "  </tbody>\n",
              "</table>\n",
              "</div>"
            ],
            "text/plain": [
              "              Age    Diabetes  ...  NumberOfMajorSurgeries  PremiumPrice\n",
              "count  986.000000  986.000000  ...              986.000000    986.000000\n",
              "mean    41.745436    0.419878  ...                0.667343  24336.713996\n",
              "std     13.963371    0.493789  ...                0.749205   6248.184382\n",
              "min     18.000000    0.000000  ...                0.000000  15000.000000\n",
              "25%     30.000000    0.000000  ...                0.000000  21000.000000\n",
              "50%     42.000000    0.000000  ...                1.000000  23000.000000\n",
              "75%     53.000000    1.000000  ...                1.000000  28000.000000\n",
              "max     66.000000    1.000000  ...                3.000000  40000.000000\n",
              "\n",
              "[8 rows x 11 columns]"
            ]
          },
          "metadata": {},
          "execution_count": 4
        }
      ]
    },
    {
      "cell_type": "markdown",
      "metadata": {
        "id": "Rbod06UqMZPu"
      },
      "source": [
        "Check Correlations "
      ]
    },
    {
      "cell_type": "code",
      "metadata": {
        "id": "tEfT7ztbPOz8"
      },
      "source": [
        "corr = df.corrwith(df.iloc[:, -1], axis=0).drop(labels=['PremiumPrice'])"
      ],
      "execution_count": 3,
      "outputs": []
    },
    {
      "cell_type": "code",
      "metadata": {
        "colab": {
          "base_uri": "https://localhost:8080/",
          "height": 507
        },
        "id": "i0rQ-9iZRmNE",
        "outputId": "86a55ed0-9514-43ff-b3fd-c4b6f3e1966f"
      },
      "source": [
        "plt.figure(figsize=(8, 6))\n",
        "plt.axhline(y=0.5, color='r', linestyle='-', label='Moderate') # moderate line \n",
        "corr.plot(kind='bar', label='Correlation')\n",
        "plt.legend()\n",
        "plt.title(\"Premium Price Relations\")\n",
        "plt.show()"
      ],
      "execution_count": 6,
      "outputs": [
        {
          "output_type": "display_data",
          "data": {
            "image/png": "[encoded data removed]",
            "text/plain": [
              "<Figure size 576x432 with 1 Axes>"
            ]
          },
          "metadata": {
            "needs_background": "light"
          }
        }
      ]
    },
    {
      "cell_type": "markdown",
      "metadata": {
        "id": "u4ac0u9KUEzs"
      },
      "source": [
        "Age is related (strongly positive) to the price. -> Older more expensive"
      ]
    },
    {
      "cell_type": "code",
      "metadata": {
        "colab": {
          "base_uri": "https://localhost:8080/"
        },
        "id": "-Yz-OALRa1b7",
        "outputId": "2d729e7c-2ae3-4dd5-949f-790bd28a4306"
      },
      "source": [
        "print(\"Avg Price '18-30', '30-42', '42-54', '54-66' \\n\", \n",
        "      df[['PremiumPrice']] [(df[\"Age\"] >= 18) & (df[\"Age\"] <= 30)].mean(), \n",
        "      df[['PremiumPrice']] [(df[\"Age\"] > 30) & (df[\"Age\"] <= 42)].mean(), \n",
        "      df[['PremiumPrice']] [(df[\"Age\"] > 42) & (df[\"Age\"] <= 54)].mean(), \n",
        "      df[['PremiumPrice']] [(df[\"Age\"] > 54) & (df[\"Age\"] <= 66)].mean()\n",
        "      )"
      ],
      "execution_count": 7,
      "outputs": [
        {
          "output_type": "stream",
          "name": "stdout",
          "text": [
            "Avg Price '18-30', '30-42', '42-54', '54-66' \n",
            " PremiumPrice    17057.471264\n",
            "dtype: float64 PremiumPrice    24836.134454\n",
            "dtype: float64 PremiumPrice    27318.35206\n",
            "dtype: float64 PremiumPrice    28813.636364\n",
            "dtype: float64\n"
          ]
        }
      ]
    },
    {
      "cell_type": "code",
      "metadata": {
        "id": "VbWjRD4HmV-b",
        "colab": {
          "base_uri": "https://localhost:8080/"
        },
        "outputId": "7f089183-24a9-4be4-f09b-885f2c7f0fcc"
      },
      "source": [
        "pd.cut(df['Age'], bins=4).value_counts()"
      ],
      "execution_count": 8,
      "outputs": [
        {
          "output_type": "execute_result",
          "data": {
            "text/plain": [
              "(42.0, 54.0]      267\n",
              "(17.952, 30.0]    261\n",
              "(30.0, 42.0]      238\n",
              "(54.0, 66.0]      220\n",
              "Name: Age, dtype: int64"
            ]
          },
          "metadata": {},
          "execution_count": 8
        }
      ]
    },
    {
      "cell_type": "markdown",
      "metadata": {
        "id": "iIHeB8I5oQlc"
      },
      "source": [
        "No imbalanced datasets by Age"
      ]
    },
    {
      "cell_type": "markdown",
      "metadata": {
        "id": "IDYqsB1KZ0g-"
      },
      "source": [
        "Age Base Analysis"
      ]
    },
    {
      "cell_type": "code",
      "metadata": {
        "id": "bY1715m2pJC4"
      },
      "source": [
        "young = df[(df[\"Age\"] >= 18) & (df[\"Age\"] <= 30)]\n",
        "adult1 = df[(df[\"Age\"] > 30) & (df[\"Age\"] <= 42)]\n",
        "adult2 = df[(df[\"Age\"] > 42) & (df[\"Age\"] <= 54)]\n",
        "senior = df[(df[\"Age\"] > 54) & (df[\"Age\"] <= 66)]"
      ],
      "execution_count": 9,
      "outputs": []
    },
    {
      "cell_type": "code",
      "metadata": {
        "id": "q9BdyUSOqALV"
      },
      "source": [
        "y_corr = young.corrwith(young.iloc[:, -1], axis=0).drop(labels=['PremiumPrice'])\n",
        "a1_corr = adult1.corrwith(adult1.iloc[:, -1], axis=0).drop(labels=['PremiumPrice'])\n",
        "a2_corr = adult2.corrwith(adult2.iloc[:, -1], axis=0).drop(labels=['PremiumPrice'])\n",
        "s_corr = senior.corrwith(senior.iloc[:, -1], axis=0).drop(labels=['PremiumPrice'])\n",
        "\n",
        "g = ['18-30', '30-42', '42-54', '54-66'] # for plotting and models later"
      ],
      "execution_count": 10,
      "outputs": []
    },
    {
      "cell_type": "code",
      "metadata": {
        "id": "5OgoSS8Iriuu",
        "colab": {
          "base_uri": "https://localhost:8080/",
          "height": 175
        },
        "outputId": "b60bd9c3-9714-4c58-9d41-8876e57652b7"
      },
      "source": [
        "age_base = pd.DataFrame([y_corr, a1_corr, a2_corr, s_corr])\n",
        "age_base"
      ],
      "execution_count": 11,
      "outputs": [
        {
          "output_type": "execute_result",
          "data": {
            "text/html": [
              "<div>\n",
              "<style scoped>\n",
              "    .dataframe tbody tr th:only-of-type {\n",
              "        vertical-align: middle;\n",
              "    }\n",
              "\n",
              "    .dataframe tbody tr th {\n",
              "        vertical-align: top;\n",
              "    }\n",
              "\n",
              "    .dataframe thead th {\n",
              "        text-align: right;\n",
              "    }\n",
              "</style>\n",
              "<table border=\"1\" class=\"dataframe\">\n",
              "  <thead>\n",
              "    <tr style=\"text-align: right;\">\n",
              "      <th></th>\n",
              "      <th>Age</th>\n",
              "      <th>Diabetes</th>\n",
              "      <th>BloodPressureProblems</th>\n",
              "      <th>AnyTransplants</th>\n",
              "      <th>AnyChronicDiseases</th>\n",
              "      <th>Height</th>\n",
              "      <th>Weight</th>\n",
              "      <th>KnownAllergies</th>\n",
              "      <th>HistoryOfCancerInFamily</th>\n",
              "      <th>NumberOfMajorSurgeries</th>\n",
              "    </tr>\n",
              "  </thead>\n",
              "  <tbody>\n",
              "    <tr>\n",
              "      <th>0</th>\n",
              "      <td>0.279483</td>\n",
              "      <td>-0.025038</td>\n",
              "      <td>0.210001</td>\n",
              "      <td>0.190133</td>\n",
              "      <td>0.392123</td>\n",
              "      <td>-0.034182</td>\n",
              "      <td>0.089217</td>\n",
              "      <td>-0.027177</td>\n",
              "      <td>-0.002234</td>\n",
              "      <td>0.022974</td>\n",
              "    </tr>\n",
              "    <tr>\n",
              "      <th>1</th>\n",
              "      <td>0.168016</td>\n",
              "      <td>-0.068791</td>\n",
              "      <td>-0.016865</td>\n",
              "      <td>0.701766</td>\n",
              "      <td>0.185736</td>\n",
              "      <td>0.006177</td>\n",
              "      <td>0.100211</td>\n",
              "      <td>0.102118</td>\n",
              "      <td>0.360884</td>\n",
              "      <td>0.180751</td>\n",
              "    </tr>\n",
              "    <tr>\n",
              "      <th>2</th>\n",
              "      <td>0.279309</td>\n",
              "      <td>-0.030344</td>\n",
              "      <td>-0.025848</td>\n",
              "      <td>0.457739</td>\n",
              "      <td>0.187229</td>\n",
              "      <td>0.009577</td>\n",
              "      <td>0.372832</td>\n",
              "      <td>0.035739</td>\n",
              "      <td>0.188840</td>\n",
              "      <td>0.153886</td>\n",
              "    </tr>\n",
              "    <tr>\n",
              "      <th>3</th>\n",
              "      <td>0.038370</td>\n",
              "      <td>-0.144390</td>\n",
              "      <td>-0.104692</td>\n",
              "      <td>0.444280</td>\n",
              "      <td>0.101037</td>\n",
              "      <td>0.022144</td>\n",
              "      <td>0.471978</td>\n",
              "      <td>0.030195</td>\n",
              "      <td>0.086653</td>\n",
              "      <td>-0.132850</td>\n",
              "    </tr>\n",
              "  </tbody>\n",
              "</table>\n",
              "</div>"
            ],
            "text/plain": [
              "        Age  Diabetes  ...  HistoryOfCancerInFamily  NumberOfMajorSurgeries\n",
              "0  0.279483 -0.025038  ...                -0.002234                0.022974\n",
              "1  0.168016 -0.068791  ...                 0.360884                0.180751\n",
              "2  0.279309 -0.030344  ...                 0.188840                0.153886\n",
              "3  0.038370 -0.144390  ...                 0.086653               -0.132850\n",
              "\n",
              "[4 rows x 10 columns]"
            ]
          },
          "metadata": {},
          "execution_count": 11
        }
      ]
    },
    {
      "cell_type": "code",
      "metadata": {
        "id": "0PtJ-YUQSXiz",
        "colab": {
          "base_uri": "https://localhost:8080/",
          "height": 1000
        },
        "outputId": "74ac5b6e-0be4-45a4-b43b-c86bd05f8fe3"
      },
      "source": [
        "pos = 1\n",
        "\n",
        "for itr in age_base:\n",
        "  plt.subplot(5, 2, pos)\n",
        "\n",
        "  plt.subplots_adjust(left=1, right=2.5, top=4) # adjusting subplot\n",
        "\n",
        "  sns.barplot(x=g, y=itr, data=age_base)\n",
        "  plt.axhline(y=0.5, color='r', linestyle='-', label='Moderate') # most of them is positive, -> no strongly negative (-0.5 [Moderate])\n",
        "  pos +=1\n",
        "\n",
        "plt.show()"
      ],
      "execution_count": 12,
      "outputs": [
        {
          "output_type": "display_data",
          "data": {
            "image/png": "[encoded data removed]",
            "text/plain": [
              "<Figure size 432x288 with 10 Axes>"
            ]
          },
          "metadata": {
            "needs_background": "light"
          }
        }
      ]
    },
    {
      "cell_type": "markdown",
      "metadata": {
        "id": "RecnV_3lZYAF"
      },
      "source": [
        "Between 30 and 42 years, \"AnyTransplants\" is most related."
      ]
    },
    {
      "cell_type": "code",
      "metadata": {
        "id": "KIhbhWNEXbMk",
        "colab": {
          "base_uri": "https://localhost:8080/",
          "height": 282
        },
        "outputId": "cfde7cbe-6fb6-47de-9ffd-a06ac6f9d260"
      },
      "source": [
        "df.boxplot([\"Height\", \"Weight\"])"
      ],
      "execution_count": 13,
      "outputs": [
        {
          "output_type": "execute_result",
          "data": {
            "text/plain": [
              "<matplotlib.axes._subplots.AxesSubplot at 0x7f94961e8990>"
            ]
          },
          "metadata": {},
          "execution_count": 13
        },
        {
          "output_type": "display_data",
          "data": {
            "image/png": "[encoded data removed]",
            "text/plain": [
              "<Figure size 432x288 with 1 Axes>"
            ]
          },
          "metadata": {
            "needs_background": "light"
          }
        }
      ]
    },
    {
      "cell_type": "markdown",
      "metadata": {
        "id": "BA5S-vxeaQeZ"
      },
      "source": [
        "Some of people are over 100 kg -> Diabetes?"
      ]
    },
    {
      "cell_type": "code",
      "metadata": {
        "colab": {
          "base_uri": "https://localhost:8080/"
        },
        "id": "TkwvArkDadva",
        "outputId": "73d00afe-3f00-466b-f0ad-12f59512e441"
      },
      "source": [
        "count = 0\n",
        "overweight = 0 \n",
        "index = []\n",
        "\n",
        "for itr, weight in enumerate(df[\"Weight\"]): \n",
        "  if weight > 100: # almost 2 SD different \n",
        "\n",
        "    overweight +=1\n",
        "\n",
        "    if df.loc[itr, 'Diabetes'] == 1: # yes, diabetes\n",
        "      count +=1\n",
        "      index.append(itr)\n",
        "\n",
        "print(\"related to weight and diabetes is %.2f percent\" %(count/overweight) )"
      ],
      "execution_count": 14,
      "outputs": [
        {
          "output_type": "stream",
          "name": "stdout",
          "text": [
            "related to weight and diabetes is 0.36 percent\n"
          ]
        }
      ]
    },
    {
      "cell_type": "code",
      "metadata": {
        "colab": {
          "base_uri": "https://localhost:8080/"
        },
        "id": "7oRx2FRVeXRy",
        "outputId": "e70b89a3-ddf8-490e-a6a1-9f470a6d4fe2"
      },
      "source": [
        "print(\"Avg Price Diabetes, Non-Diabetes, and OverWeight(Diabetes) \\n\", \n",
        "      df[['Diabetes', 'PremiumPrice']] [df['Diabetes'] == 1].mean(), \n",
        "      df[['Diabetes', 'PremiumPrice']] [df['Diabetes'] == 0].mean(), \n",
        "      df[['Diabetes', 'PremiumPrice']] [(df['Diabetes'] == 1) & (df['Weight'] > 100)].mean(), \n",
        "      )"
      ],
      "execution_count": null,
      "outputs": [
        {
          "output_type": "stream",
          "name": "stdout",
          "text": [
            "Avg Price Diabetes, Non-Diabetes, and OverWeight(Diabetes) \n",
            " Diabetes            1.000000\n",
            "PremiumPrice    24896.135266\n",
            "dtype: float64 Diabetes            0.000000\n",
            "PremiumPrice    23931.818182\n",
            "dtype: float64 Diabetes            1.000000\n",
            "PremiumPrice    28714.285714\n",
            "dtype: float64\n"
          ]
        }
      ]
    },
    {
      "cell_type": "markdown",
      "metadata": {
        "id": "ObElOmBXiKBM"
      },
      "source": [
        "Overweight and Diabetes people are higher than the average (as the same as 54+) "
      ]
    },
    {
      "cell_type": "markdown",
      "metadata": {
        "id": "e9WbyD4ZaEZa"
      },
      "source": [
        "# Regression Models"
      ]
    },
    {
      "cell_type": "code",
      "metadata": {
        "id": "ssKqu49JaD0s"
      },
      "source": [
        "from sklearn.model_selection import train_test_split\n",
        "# independent variable\n",
        "x = df.iloc[:, 1:-1].values\n",
        "\n",
        "# dependent variable\n",
        "y = df.iloc[:, -1].values"
      ],
      "execution_count": 15,
      "outputs": []
    },
    {
      "cell_type": "code",
      "metadata": {
        "id": "6ydE7Muhcy0V"
      },
      "source": [
        "# splitting into 4 parts, but it is too small\n",
        "x_train, x_test, y_train, y_test = train_test_split(x, y, train_size=0.9, random_state=1)"
      ],
      "execution_count": 16,
      "outputs": []
    },
    {
      "cell_type": "code",
      "metadata": {
        "id": "Wz7Xr-cGdCQM"
      },
      "source": [
        "from sklearn.preprocessing import StandardScaler\n",
        "sc = StandardScaler()\n",
        "x_train = sc.fit_transform(x_train)\n",
        "x_test = sc.transform(x_test)"
      ],
      "execution_count": 17,
      "outputs": []
    },
    {
      "cell_type": "code",
      "metadata": {
        "colab": {
          "base_uri": "https://localhost:8080/"
        },
        "id": "lB6SLq8mc3fS",
        "outputId": "ab496301-9cae-4fd1-cae2-139aac3e19c9"
      },
      "source": [
        "from sklearn.ensemble import RandomForestRegressor # for random forest regression\n",
        "rfr_reg = RandomForestRegressor(n_estimators=1000, random_state=0) # number of trees (default is 100)\n",
        "rfr_reg.fit(x_train, y_train)"
      ],
      "execution_count": 18,
      "outputs": [
        {
          "output_type": "execute_result",
          "data": {
            "text/plain": [
              "RandomForestRegressor(bootstrap=True, ccp_alpha=0.0, criterion='mse',\n",
              "                      max_depth=None, max_features='auto', max_leaf_nodes=None,\n",
              "                      max_samples=None, min_impurity_decrease=0.0,\n",
              "                      min_impurity_split=None, min_samples_leaf=1,\n",
              "                      min_samples_split=2, min_weight_fraction_leaf=0.0,\n",
              "                      n_estimators=1000, n_jobs=None, oob_score=False,\n",
              "                      random_state=0, verbose=0, warm_start=False)"
            ]
          },
          "metadata": {},
          "execution_count": 18
        }
      ]
    },
    {
      "cell_type": "markdown",
      "metadata": {
        "id": "nmD0c8LHdX2N"
      },
      "source": [
        "# Evaluation"
      ]
    },
    {
      "cell_type": "code",
      "metadata": {
        "colab": {
          "base_uri": "https://localhost:8080/"
        },
        "id": "ZCAtCw2OdpOv",
        "outputId": "7d1647ab-23db-4d5a-a45e-86a9efac480a"
      },
      "source": [
        "from sklearn.metrics import mean_absolute_error\n",
        "print(\"Premium Price Estimation Difference is $%.2f\" %mean_absolute_error(y_test, rfr_reg.predict(x_test)))\n",
        "ev1 = mean_absolute_error(y_test, rfr_reg.predict(x_test))"
      ],
      "execution_count": 19,
      "outputs": [
        {
          "output_type": "stream",
          "name": "stdout",
          "text": [
            "Premium Price Estimation Difference is $4559.60\n"
          ]
        }
      ]
    },
    {
      "cell_type": "markdown",
      "metadata": {
        "id": "fXSiomYngqst"
      },
      "source": [
        "# Round 2 "
      ]
    },
    {
      "cell_type": "markdown",
      "metadata": {
        "id": "vkS56ezFewNE"
      },
      "source": [
        "Select Top 5 Related Features "
      ]
    },
    {
      "cell_type": "code",
      "metadata": {
        "id": "-xsWk5infBI9",
        "colab": {
          "base_uri": "https://localhost:8080/"
        },
        "outputId": "15999431-a8d4-46ee-c2b5-5332448eb55f"
      },
      "source": [
        "corr.sort_values(ascending=False)"
      ],
      "execution_count": 20,
      "outputs": [
        {
          "output_type": "execute_result",
          "data": {
            "text/plain": [
              "Age                        0.697540\n",
              "AnyTransplants             0.289056\n",
              "NumberOfMajorSurgeries     0.264250\n",
              "AnyChronicDiseases         0.208610\n",
              "BloodPressureProblems      0.167097\n",
              "Weight                     0.141507\n",
              "HistoryOfCancerInFamily    0.083139\n",
              "Diabetes                   0.076209\n",
              "Height                     0.026910\n",
              "KnownAllergies             0.012103\n",
              "dtype: float64"
            ]
          },
          "metadata": {},
          "execution_count": 20
        }
      ]
    },
    {
      "cell_type": "code",
      "metadata": {
        "id": "PnxnKLDbeqwU"
      },
      "source": [
        "top5 = ['Age', 'AnyTransplants', 'NumberOfMajorSurgeries', 'BloodPressureProblems', 'Weight']\n",
        "top_x = df.loc[:, top5].values"
      ],
      "execution_count": 21,
      "outputs": []
    },
    {
      "cell_type": "code",
      "metadata": {
        "id": "3pGIrhmrfta9"
      },
      "source": [
        "top_x_train, top_x_test, top_y_train, top_y_test = train_test_split(top_x, y, train_size=0.9, random_state=1)\n",
        "\n",
        "sc = StandardScaler()\n",
        "top_x_train = sc.fit_transform(top_x_train)\n",
        "top_x_test = sc.transform(top_x_test)"
      ],
      "execution_count": 22,
      "outputs": []
    },
    {
      "cell_type": "code",
      "metadata": {
        "colab": {
          "base_uri": "https://localhost:8080/"
        },
        "id": "0xFZA0jif7tq",
        "outputId": "e3d85495-3db5-4315-9013-a7f89d2c810b"
      },
      "source": [
        "top_rfr_reg = RandomForestRegressor(n_estimators=1000, random_state=0) # number of trees (default is 100)\n",
        "top_rfr_reg.fit(top_x_train, top_y_train)\n",
        "\n",
        "print(\"Premium Price Estimation Difference is $%.2f\" %mean_absolute_error(top_y_test, top_rfr_reg.predict(top_x_test)))\n",
        "ev2 = mean_absolute_error(top_y_test, top_rfr_reg.predict(top_x_test))"
      ],
      "execution_count": 23,
      "outputs": [
        {
          "output_type": "stream",
          "name": "stdout",
          "text": [
            "Premium Price Estimation Difference is $1606.05\n"
          ]
        }
      ]
    },
    {
      "cell_type": "markdown",
      "metadata": {
        "id": "4mJa3tvXi3hz"
      },
      "source": [
        "# Round 3 Age Base [Top 5 features]"
      ]
    },
    {
      "cell_type": "markdown",
      "metadata": {
        "id": "KtHP_rmdkOYc"
      },
      "source": [
        "Between 18 and 30"
      ]
    },
    {
      "cell_type": "code",
      "metadata": {
        "id": "3xe0ftbQi3Fr",
        "colab": {
          "base_uri": "https://localhost:8080/"
        },
        "outputId": "851744c9-4011-4e86-c455-8a708e43e045"
      },
      "source": [
        "y_corr.sort_values(ascending=False)"
      ],
      "execution_count": 24,
      "outputs": [
        {
          "output_type": "execute_result",
          "data": {
            "text/plain": [
              "AnyChronicDiseases         0.392123\n",
              "Age                        0.279483\n",
              "BloodPressureProblems      0.210001\n",
              "AnyTransplants             0.190133\n",
              "Weight                     0.089217\n",
              "NumberOfMajorSurgeries     0.022974\n",
              "HistoryOfCancerInFamily   -0.002234\n",
              "Diabetes                  -0.025038\n",
              "KnownAllergies            -0.027177\n",
              "Height                    -0.034182\n",
              "dtype: float64"
            ]
          },
          "metadata": {},
          "execution_count": 24
        }
      ]
    },
    {
      "cell_type": "code",
      "metadata": {
        "colab": {
          "base_uri": "https://localhost:8080/"
        },
        "id": "BkuWqzxJjZ8K",
        "outputId": "2f9e8c1e-3a85-40e5-b77d-fbe448fe2f53"
      },
      "source": [
        "y_top5 = ['Age', 'AnyTransplants', 'NumberOfMajorSurgeries', 'BloodPressureProblems', 'Weight']\n",
        "\n",
        "y_top_x = young.loc[:, y_top5].values\n",
        "y_y = young.iloc[:, -1].values\n",
        "\n",
        "y_x_train, y_x_test, y_y_train, y_y_test = train_test_split(y_top_x, y_y, train_size=0.9, random_state=1)\n",
        "\n",
        "sc = StandardScaler()\n",
        "y_x_train = sc.fit_transform(y_x_train)\n",
        "y_x_test = sc.transform(y_x_test)\n",
        "\n",
        "y_rfr_reg = RandomForestRegressor(n_estimators=100, random_state=0) # number of trees (default is 100)\n",
        "y_rfr_reg.fit(y_x_train, y_y_train)\n",
        "\n",
        "print(\"Premium Price Estimation Difference is $%.2f\" %mean_absolute_error(y_y_test, y_rfr_reg.predict(y_x_test)))\n",
        "\n",
        "res_y = mean_absolute_error(y_y_test, y_rfr_reg.predict(y_x_test))"
      ],
      "execution_count": 25,
      "outputs": [
        {
          "output_type": "stream",
          "name": "stdout",
          "text": [
            "Premium Price Estimation Difference is $900.37\n"
          ]
        }
      ]
    },
    {
      "cell_type": "markdown",
      "metadata": {
        "id": "AWAa2opBkWBw"
      },
      "source": [
        "Between 30 and 42"
      ]
    },
    {
      "cell_type": "code",
      "metadata": {
        "id": "pHUxua7AkUj3",
        "colab": {
          "base_uri": "https://localhost:8080/"
        },
        "outputId": "2eb628a2-7401-4923-edbb-4375a2746c2b"
      },
      "source": [
        "a1_corr.sort_values(ascending=False)"
      ],
      "execution_count": 26,
      "outputs": [
        {
          "output_type": "execute_result",
          "data": {
            "text/plain": [
              "AnyTransplants             0.701766\n",
              "HistoryOfCancerInFamily    0.360884\n",
              "AnyChronicDiseases         0.185736\n",
              "NumberOfMajorSurgeries     0.180751\n",
              "Age                        0.168016\n",
              "KnownAllergies             0.102118\n",
              "Weight                     0.100211\n",
              "Height                     0.006177\n",
              "BloodPressureProblems     -0.016865\n",
              "Diabetes                  -0.068791\n",
              "dtype: float64"
            ]
          },
          "metadata": {},
          "execution_count": 26
        }
      ]
    },
    {
      "cell_type": "code",
      "metadata": {
        "colab": {
          "base_uri": "https://localhost:8080/"
        },
        "id": "RCg_vI2skq7s",
        "outputId": "ecbf626f-f932-478b-c61f-6758ef97a847"
      },
      "source": [
        "a1_top5 = ['Age', 'AnyChronicDiseases', 'NumberOfMajorSurgeries', 'HistoryOfCancerInFamily', 'AnyTransplants']\n",
        "\n",
        "a1_top_x = adult1.loc[:, a1_top5].values\n",
        "a1_y = adult1.iloc[:, -1].values\n",
        "\n",
        "a1_x_train, a1_x_test, a1_y_train, a1_y_test = train_test_split(a1_top_x, a1_y, train_size=0.9, random_state=1)\n",
        "\n",
        "sc = StandardScaler()\n",
        "a1_x_train = sc.fit_transform(a1_x_train)\n",
        "a1_x_test = sc.transform(a1_x_test)\n",
        "\n",
        "a1_rfr_reg = RandomForestRegressor(n_estimators=10, random_state=0) # number of trees (default is 100)\n",
        "a1_rfr_reg.fit(a1_x_train, a1_y_train)\n",
        "\n",
        "print(\"Premium Price Estimation Difference is $%.2f\" %mean_absolute_error(a1_y_test, a1_rfr_reg.predict(a1_x_test)))\n",
        "\n",
        "res_a1 = mean_absolute_error(a1_y_test, a1_rfr_reg.predict(a1_x_test))"
      ],
      "execution_count": 27,
      "outputs": [
        {
          "output_type": "stream",
          "name": "stdout",
          "text": [
            "Premium Price Estimation Difference is $500.26\n"
          ]
        }
      ]
    },
    {
      "cell_type": "markdown",
      "metadata": {
        "id": "uJ2gFDYCnZZK"
      },
      "source": [
        "Between 42 and 54"
      ]
    },
    {
      "cell_type": "code",
      "metadata": {
        "id": "9OkL9XclmC5q",
        "colab": {
          "base_uri": "https://localhost:8080/"
        },
        "outputId": "8c7d6101-be05-42b7-ffec-40ac059632d6"
      },
      "source": [
        "a2_corr.sort_values(ascending=False)"
      ],
      "execution_count": 28,
      "outputs": [
        {
          "output_type": "execute_result",
          "data": {
            "text/plain": [
              "AnyTransplants             0.457739\n",
              "Weight                     0.372832\n",
              "Age                        0.279309\n",
              "HistoryOfCancerInFamily    0.188840\n",
              "AnyChronicDiseases         0.187229\n",
              "NumberOfMajorSurgeries     0.153886\n",
              "KnownAllergies             0.035739\n",
              "Height                     0.009577\n",
              "BloodPressureProblems     -0.025848\n",
              "Diabetes                  -0.030344\n",
              "dtype: float64"
            ]
          },
          "metadata": {},
          "execution_count": 28
        }
      ]
    },
    {
      "cell_type": "code",
      "metadata": {
        "colab": {
          "base_uri": "https://localhost:8080/"
        },
        "id": "GqZy1a6TmHCP",
        "outputId": "a562bdce-47ca-4baa-9cbe-b032ec2806cf"
      },
      "source": [
        "a2_top5 = ['Age', 'AnyChronicDiseases', 'Weight', 'HistoryOfCancerInFamily', 'AnyTransplants']\n",
        "\n",
        "a2_top_x = adult2.loc[:, a2_top5].values\n",
        "a2_y = adult2.iloc[:, -1].values\n",
        "\n",
        "a2_x_train, a2_x_test, a2_y_train, a2_y_test = train_test_split(a2_top_x, a2_y, train_size=0.9, random_state=1)\n",
        "\n",
        "sc = StandardScaler()\n",
        "a2_x_train = sc.fit_transform(a2_x_train)\n",
        "a2_x_test = sc.transform(a2_x_test)\n",
        "\n",
        "a2_rfr_reg = RandomForestRegressor(n_estimators=20, random_state=0) # number of trees (default is 100)\n",
        "a2_rfr_reg.fit(a2_x_train, a2_y_train)\n",
        "\n",
        "print(\"Premium Price Estimation Difference is $%.2f\" %mean_absolute_error(a2_y_test, a2_rfr_reg.predict(a2_x_test)))\n",
        "\n",
        "res_a2 = mean_absolute_error(a2_y_test, a2_rfr_reg.predict(a2_x_test))"
      ],
      "execution_count": 29,
      "outputs": [
        {
          "output_type": "stream",
          "name": "stdout",
          "text": [
            "Premium Price Estimation Difference is $2931.67\n"
          ]
        }
      ]
    },
    {
      "cell_type": "markdown",
      "metadata": {
        "id": "XTwzV5VXnfRq"
      },
      "source": [
        "Between 54 and 66"
      ]
    },
    {
      "cell_type": "code",
      "metadata": {
        "id": "K97JauI-nH2u",
        "colab": {
          "base_uri": "https://localhost:8080/"
        },
        "outputId": "a80cc500-2e97-4327-8ddd-850ac33cace7"
      },
      "source": [
        "s_corr.sort_values(ascending=False)"
      ],
      "execution_count": 30,
      "outputs": [
        {
          "output_type": "execute_result",
          "data": {
            "text/plain": [
              "Weight                     0.471978\n",
              "AnyTransplants             0.444280\n",
              "AnyChronicDiseases         0.101037\n",
              "HistoryOfCancerInFamily    0.086653\n",
              "Age                        0.038370\n",
              "KnownAllergies             0.030195\n",
              "Height                     0.022144\n",
              "BloodPressureProblems     -0.104692\n",
              "NumberOfMajorSurgeries    -0.132850\n",
              "Diabetes                  -0.144390\n",
              "dtype: float64"
            ]
          },
          "metadata": {},
          "execution_count": 30
        }
      ]
    },
    {
      "cell_type": "code",
      "metadata": {
        "colab": {
          "base_uri": "https://localhost:8080/"
        },
        "id": "hv5bP9djnscr",
        "outputId": "d0dc4f7b-51f8-4ce0-875d-97a8afc1c72f"
      },
      "source": [
        "s_top5 = ['Diabetes', 'BloodPressureProblems', 'Weight', 'NumberOfMajorSurgeries', 'AnyTransplants']\n",
        "\n",
        "s_top_x = senior.loc[:, s_top5].values\n",
        "s_y = senior.iloc[:, -1].values\n",
        "\n",
        "s_x_train, s_x_test, s_y_train, s_y_test = train_test_split(s_top_x, s_y, train_size=0.9, random_state=1)\n",
        "\n",
        "sc = StandardScaler()\n",
        "s_x_train = sc.fit_transform(s_x_train)\n",
        "s_x_test = sc.transform(s_x_test)\n",
        "\n",
        "s_rfr_reg = RandomForestRegressor(n_estimators=50, random_state=0) # number of trees (default is 100)\n",
        "s_rfr_reg.fit(s_x_train, s_y_train)\n",
        "\n",
        "print(\"Premium Price Estimation Difference is $%.2f\" %mean_absolute_error(s_y_test, s_rfr_reg.predict(s_x_test)))\n",
        "\n",
        "res_s = mean_absolute_error(s_y_test, s_rfr_reg.predict(s_x_test))"
      ],
      "execution_count": 31,
      "outputs": [
        {
          "output_type": "stream",
          "name": "stdout",
          "text": [
            "Premium Price Estimation Difference is $1091.51\n"
          ]
        }
      ]
    },
    {
      "cell_type": "markdown",
      "metadata": {
        "id": "9EVfF5mcqEVD"
      },
      "source": [
        "# Evaluation"
      ]
    },
    {
      "cell_type": "code",
      "metadata": {
        "colab": {
          "base_uri": "https://localhost:8080/"
        },
        "id": "9YEOtB1YoWyD",
        "outputId": "49c58965-216b-4ced-8953-eb8cecc2a833"
      },
      "source": [
        "ev3 = (res_y + res_a1 + res_a2 + res_s) / 4\n",
        "\n",
        "print(\"Round 1:\", ev1,  \" Round 2:\", ev2,  \" Round 3:\", ev3)"
      ],
      "execution_count": 32,
      "outputs": [
        {
          "output_type": "stream",
          "name": "stdout",
          "text": [
            "Round 1: 4559.596584896585  Round 2: 1606.050529100529  Round 3: 1355.9509836228588\n"
          ]
        }
      ]
    },
    {
      "cell_type": "markdown",
      "metadata": {
        "id": "btOxrWPGEfCZ"
      },
      "source": [
        "Age Base is better than other models"
      ]
    },
    {
      "cell_type": "code",
      "metadata": {
        "colab": {
          "base_uri": "https://localhost:8080/",
          "height": 282
        },
        "id": "dw8uM6-Jq4jo",
        "outputId": "78fdc5fa-dfc9-4e41-88b9-87ca978d3118"
      },
      "source": [
        "sns.barplot(x=g, y=[res_y, res_a1, res_a2, res_s])\n",
        "plt.axhline(y=ev1, color='r', linestyle='-', label='Round 1')\n",
        "plt.axhline(y=ev2, color='g', linestyle='-', label='Round 2')\n",
        "plt.legend()"
      ],
      "execution_count": 33,
      "outputs": [
        {
          "output_type": "execute_result",
          "data": {
            "text/plain": [
              "<matplotlib.legend.Legend at 0x7f9487e4dd50>"
            ]
          },
          "metadata": {},
          "execution_count": 33
        },
        {
          "output_type": "display_data",
          "data": {
            "image/png": "[encoded data removed]",
            "text/plain": [
              "<Figure size 432x288 with 1 Axes>"
            ]
          },
          "metadata": {
            "needs_background": "light"
          }
        }
      ]
    },
    {
      "cell_type": "markdown",
      "metadata": {
        "id": "KWRmoluerw_g"
      },
      "source": [
        "# ANN Model (More Data, Much Better)"
      ]
    },
    {
      "cell_type": "code",
      "metadata": {
        "id": "84Zs7OuXrvr8"
      },
      "source": [
        "import tensorflow as tf\n",
        "from tensorflow.keras.layers import Input, Conv2D, Dense, Flatten, Dropout, MaxPool2D, BatchNormalization, Activation, Add, ZeroPadding2D\n",
        "from tensorflow.keras.models import Model\n",
        "from tensorflow.keras.optimizers import Adam"
      ],
      "execution_count": 34,
      "outputs": []
    },
    {
      "cell_type": "code",
      "metadata": {
        "id": "oxF4xszDOt3E"
      },
      "source": [
        "# independent variable\n",
        "ann_x = df.iloc[:, 1:-1].values\n",
        "\n",
        "# dependent variable\n",
        "ann_y = df.iloc[:, -1].values\n",
        "\n",
        "# splitting into 4 parts, but it is too small\n",
        "ann_x_train, ann_x_test, ann_y_train, ann_y_test = train_test_split(ann_x, ann_y, train_size=0.9, random_state=1)\n",
        "\n",
        "sc = StandardScaler()\n",
        "ann_x_train = sc.fit_transform(ann_x_train)\n",
        "ann_x_test = sc.transform(ann_x_test)"
      ],
      "execution_count": 35,
      "outputs": []
    },
    {
      "cell_type": "code",
      "metadata": {
        "id": "Q_UU23APGRbF"
      },
      "source": [
        "# initializing ANN\n",
        "\n",
        "m = tf.keras.Sequential([\n",
        "    Input(shape=(9, )),                        \n",
        "    Dense(1000, activation = tf.keras.layers.ReLU(negative_slope=1.0)), # ann_x_train include many negative values\n",
        "    Dropout(0.4),\n",
        "    Dense(100),\n",
        "    Dropout(0.1),\n",
        "    Dense(5),\n",
        "    Dense(1)\n",
        "])\n",
        "\n",
        "m.compile(loss='mae', optimizer=Adam(0.0001))\n",
        "\n",
        "m.summary()\n",
        "\n",
        "model = m.fit(ann_x_train, ann_y_train, epochs=500, batch_size=64)"
      ],
      "execution_count": null,
      "outputs": []
    },
    {
      "cell_type": "code",
      "metadata": {
        "id": "N7UXHXkSsOHQ"
      },
      "source": [
        "# initializing ANN\n",
        "\n",
        "m = tf.keras.Sequential([\n",
        "    Input(shape=(9, )),                        \n",
        "    Dense(400), # ann_x_train include many negative values , activation = tf.keras.layers.ReLU(negative_slope=1.0)\n",
        "    Dropout(0.3),\n",
        "    Dense(10),\n",
        "    Dense(1)\n",
        "])\n",
        "\n",
        "m.compile(loss='mae', optimizer=Adam())\n",
        "\n",
        "m.summary()"
      ],
      "execution_count": null,
      "outputs": []
    },
    {
      "cell_type": "markdown",
      "metadata": {
        "id": "eGx9EHFqpkTG"
      },
      "source": [
        "Training"
      ]
    },
    {
      "cell_type": "code",
      "metadata": {
        "id": "UstJYyo0wuO-"
      },
      "source": [
        "model = m.fit(ann_x_train, ann_y_train, epochs=300, batch_size=128)"
      ],
      "execution_count": null,
      "outputs": []
    },
    {
      "cell_type": "markdown",
      "metadata": {
        "id": "MfDcOLVDphgU"
      },
      "source": [
        "# Evaluation"
      ]
    },
    {
      "cell_type": "code",
      "metadata": {
        "colab": {
          "base_uri": "https://localhost:8080/",
          "height": 284
        },
        "id": "_55VXg__TN5y",
        "outputId": "92d4bb57-b7bc-4391-d4f0-f069e53eb6c6"
      },
      "source": [
        "pd.DataFrame(model.history['loss']).plot()"
      ],
      "execution_count": 230,
      "outputs": [
        {
          "output_type": "execute_result",
          "data": {
            "text/plain": [
              "<matplotlib.axes._subplots.AxesSubplot at 0x7f9439af5410>"
            ]
          },
          "metadata": {},
          "execution_count": 230
        },
        {
          "output_type": "display_data",
          "data": {
            "image/png": "[encoded data removed]",
            "text/plain": [
              "<Figure size 432x288 with 1 Axes>"
            ]
          },
          "metadata": {
            "needs_background": "light"
          }
        }
      ]
    },
    {
      "cell_type": "code",
      "metadata": {
        "colab": {
          "base_uri": "https://localhost:8080/"
        },
        "id": "vv7JrR5Ky4Vi",
        "outputId": "fbecf59f-4de9-49df-be2b-7dbaf50b4d7f"
      },
      "source": [
        "print(\"Round 1:\", ev1, \" ANN Model:\", mean_absolute_error(ann_y_test, m.predict(ann_x_test)))"
      ],
      "execution_count": 231,
      "outputs": [
        {
          "output_type": "stream",
          "name": "stdout",
          "text": [
            "Round 1: 4559.596584896585  ANN Model: 4063.098110006313\n"
          ]
        }
      ]
    },
    {
      "cell_type": "markdown",
      "metadata": {
        "id": "Fqf64sAXoFRQ"
      },
      "source": [
        "The reason why the values close is the size of the datasets.\n",
        "\n",
        "DL needs more data for better performances."
      ]
    }
  ]
}